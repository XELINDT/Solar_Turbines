{
 "cells": [
  {
   "cell_type": "markdown",
   "metadata": {},
   "source": [
    "## <center>Capstone Project </center>\n",
    "\n",
    "<center> 18th March </center>"
   ]
  },
  {
   "cell_type": "markdown",
   "metadata": {},
   "source": [
    "Group Team\n",
    "- Ethan Lindt\n",
    "- Andrew Olsen\n",
    "- Alessandro Caruso\n",
    "\n",
    "<hr>"
   ]
  },
  {
   "cell_type": "markdown",
   "metadata": {},
   "source": [
    "<p style=\"background-color: darkgreen;\"><strong>Done:</strong>&nbsp;</p>\n",
    "\n",
    "\n",
    "- Main exploration on c110 (called df110)\n",
    "- Data Cleaning\n",
    "- Exploration of main variables\n",
    "- Creation of new features\n",
    "- Approximation of ISI lead time\n",
    "- Inspection of relationships between regressors and waiting time \n",
    "- Initial definition of an efficient delivery\n",
    "- Grouping of product and suppliers of which the ordered quantity has an impact on waiting time.\n",
    "- (Very) preliminary linear regression to assess impact of coefficients\n",
    "- Initial Data viz\n",
    "\n",
    "<p style=\"background-color: navy;\"><strong>In Progress:</strong>&nbsp;</p>\n",
    "\n",
    "- Definition of efficient delivery\n",
    "- ad-hoc cleaning and feature engineering\n",
    "- Exploration of df126\n",
    "\n",
    "<p style=\"background-color: darkred;\"><strong>Next Steps:</strong>&nbsp;</p>\n",
    "\n",
    "- Cross-Analysis with the other datasets\n",
    "- Predictive models\n",
    "- What-if scenarios\n",
    "- Comprehensive and Interactive Data visualizations\n"
   ]
  },
  {
   "cell_type": "markdown",
   "metadata": {},
   "source": [
    "## Imports"
   ]
  },
  {
   "cell_type": "code",
   "execution_count": 2,
   "metadata": {},
   "outputs": [],
   "source": [
    "import numpy as np\n",
    "import pandas as pd\n",
    "import matplotlib.pyplot as plt\n",
    "import pycodestyle\n",
    "import openpyxl\n",
    "\n",
    "import seaborn as sns\n",
    "sns.set_style('darkgrid')\n",
    "sns.set_palette('magma')"
   ]
  },
  {
   "cell_type": "code",
   "execution_count": 3,
   "metadata": {},
   "outputs": [],
   "source": [
    "df_110 = pd.read_excel('USD PO Line Detail Report.xlsx', sheet_name = 0, engine = 'openpyxl')\n",
    "df_126 = pd.read_excel('USD PO Line Detail Report.xlsx', sheet_name = 1, engine = 'openpyxl')\n",
    "df_297 = pd.read_excel('USD PO Line Detail Report.xlsx', sheet_name = 3, engine = 'openpyxl')\n",
    "df_298 = pd.read_excel('USD PO Line Detail Report.xlsx', sheet_name = 4, engine = 'openpyxl')"
   ]
  },
  {
   "cell_type": "markdown",
   "metadata": {},
   "source": [
    "## Data Cleaning"
   ]
  },
  {
   "cell_type": "code",
   "execution_count": 4,
   "metadata": {},
   "outputs": [],
   "source": [
    "df_110 = df_110[~df_110.iloc[:,0].str.startswith('1')].drop(columns= ['Confirmed Delivery Date'], axis = 1)\n",
    "df_126 = df_126[~df_126.iloc[:,0].str.startswith('1')].drop(columns= ['Confirmed Delivery Date'], axis = 1)\n",
    "df_297 = df_297[~df_297.iloc[:,0].str.startswith('1')].drop(columns= ['Confirmed Delivery Date'], axis = 1)\n",
    "df_298 = df_298[~df_298.iloc[:,0].str.startswith('1')].drop(columns= ['Confirmed Delivery Date'], axis = 1)\n",
    "\n",
    "\n",
    "df_110 = df_110[~df_110['Actual Delivery Date'].isna()]\n",
    "df_126 = df_126[~df_126['Actual Delivery Date'].isna()]\n",
    "df_297 = df_297[~df_297['Actual Delivery Date'].isna()]\n",
    "df_298 = df_298[~df_298['Actual Delivery Date'].isna()]\n",
    "\n",
    "\n",
    "df_110['Actual Delivery Date'] = df_110['Actual Delivery Date'].values.astype('datetime64[D]')\n",
    "df_126['Actual Delivery Date'] = df_126['Actual Delivery Date'].values.astype('datetime64[D]')\n",
    "df_297['Actual Delivery Date'] = df_297['Actual Delivery Date'].values.astype('datetime64[D]')\n",
    "df_298['Actual Delivery Date'] = df_298['Actual Delivery Date'].values.astype('datetime64[D]')\n",
    "\n",
    "\n",
    "df_110['PO Creation Date'] = df_110['PO Creation Date'].values.astype('datetime64[D]')\n",
    "df_126['PO Creation Date'] = df_126['PO Creation Date'].values.astype('datetime64[D]')\n",
    "df_297['PO Creation Date'] = df_297['PO Creation Date'].values.astype('datetime64[D]')\n",
    "df_298['PO Creation Date'] = df_298['PO Creation Date'].values.astype('datetime64[D]')\n",
    "\n"
   ]
  },
  {
   "cell_type": "markdown",
   "metadata": {},
   "source": [
    "### Dropping Products with Same Order Quantity"
   ]
  },
  {
   "cell_type": "code",
   "execution_count": 5,
   "metadata": {},
   "outputs": [],
   "source": [
    "df_110 = df_110.rename(columns={\"Part Number\": \"Part_Number\"})\n",
    "df_110_unique = df_110.groupby(['Part_Number', 'BP Code'])['Ordered Qty'].nunique().reset_index(name='count')\n",
    "\n",
    "df_110_unique.Part_Number = df_110_unique.Part_Number.astype('str')\n",
    "df_110_unique['BP Code'] = df_110_unique['BP Code'].astype('str')\n",
    "df_110_unique['PN_BP_code'] = df_110_unique.Part_Number + '_'+ df_110_unique['BP Code']\n",
    "df_110_unique = df_110_unique[df_110_unique['count'] == 1].reset_index(drop = True)\n",
    "\n",
    "df_110.Part_Number = df_110.Part_Number.astype('str')\n",
    "df_110['BP Code'] = df_110['BP Code'].astype('str')\n",
    "df_110['PN_BP_code'] = df_110.Part_Number + '_' + df_110['BP Code']"
   ]
  },
  {
   "cell_type": "code",
   "execution_count": 6,
   "metadata": {},
   "outputs": [],
   "source": [
    "df_110 = df_110[~df_110.PN_BP_code.isin(df_110_unique.PN_BP_code)].reset_index(drop = True)"
   ]
  },
  {
   "cell_type": "code",
   "execution_count": 7,
   "metadata": {},
   "outputs": [],
   "source": [
    "#drop now but we'll have to change these 181 entries later as we don't have the price.\n",
    "df_110 = df_110[~df_110['Unit Price'].isna()].reset_index(drop = True)\n",
    "df_126 = df_126[~df_126['Unit Price'].isna()].reset_index(drop = True)\n",
    "df_297 = df_297[~df_297['Unit Price'].isna()].reset_index(drop = True)\n",
    "df_298 = df_298[~df_298['Unit Price'].isna()].reset_index(drop = True)"
   ]
  },
  {
   "cell_type": "markdown",
   "metadata": {},
   "source": [
    "## (Initial) Features Engineering"
   ]
  },
  {
   "cell_type": "code",
   "execution_count": 8,
   "metadata": {},
   "outputs": [
    {
     "data": {
      "text/html": [
       "<div>\n",
       "<style scoped>\n",
       "    .dataframe tbody tr th:only-of-type {\n",
       "        vertical-align: middle;\n",
       "    }\n",
       "\n",
       "    .dataframe tbody tr th {\n",
       "        vertical-align: top;\n",
       "    }\n",
       "\n",
       "    .dataframe thead th {\n",
       "        text-align: right;\n",
       "    }\n",
       "</style>\n",
       "<table border=\"1\" class=\"dataframe\">\n",
       "  <thead>\n",
       "    <tr style=\"text-align: right;\">\n",
       "      <th></th>\n",
       "      <th>PO Number</th>\n",
       "      <th>POS Number</th>\n",
       "      <th>Seq Number</th>\n",
       "      <th>BP Code</th>\n",
       "      <th>Part_Number</th>\n",
       "      <th>Ordered Qty</th>\n",
       "      <th>Delivered Qty</th>\n",
       "      <th>ISI Lead Time</th>\n",
       "      <th>Dem LT</th>\n",
       "      <th>PO Creation Date</th>\n",
       "      <th>Actual Delivery Date</th>\n",
       "      <th>Unit Price</th>\n",
       "      <th>PN_BP_code</th>\n",
       "      <th>true_dem_lt</th>\n",
       "      <th>quantity_not_delivered</th>\n",
       "      <th>Week_late</th>\n",
       "    </tr>\n",
       "  </thead>\n",
       "  <tbody>\n",
       "    <tr>\n",
       "      <th>0</th>\n",
       "      <td>BAP000003</td>\n",
       "      <td>10</td>\n",
       "      <td>0</td>\n",
       "      <td>SLD063461</td>\n",
       "      <td>233313-8-0V</td>\n",
       "      <td>1.0</td>\n",
       "      <td>1.0</td>\n",
       "      <td>NaN</td>\n",
       "      <td>8.0</td>\n",
       "      <td>2020-10-19</td>\n",
       "      <td>2020-10-29</td>\n",
       "      <td>2718.31</td>\n",
       "      <td>233313-8-0V_SLD063461</td>\n",
       "      <td>8</td>\n",
       "      <td>0.0</td>\n",
       "      <td>0</td>\n",
       "    </tr>\n",
       "    <tr>\n",
       "      <th>1</th>\n",
       "      <td>BAP000006</td>\n",
       "      <td>10</td>\n",
       "      <td>0</td>\n",
       "      <td>SUP067572</td>\n",
       "      <td>204286-4-2V</td>\n",
       "      <td>3.0</td>\n",
       "      <td>3.0</td>\n",
       "      <td>5.0</td>\n",
       "      <td>4.0</td>\n",
       "      <td>2020-10-27</td>\n",
       "      <td>2020-11-02</td>\n",
       "      <td>62.50</td>\n",
       "      <td>204286-4-2V_SUP067572</td>\n",
       "      <td>4</td>\n",
       "      <td>0.0</td>\n",
       "      <td>8</td>\n",
       "    </tr>\n",
       "    <tr>\n",
       "      <th>2</th>\n",
       "      <td>BAP000007</td>\n",
       "      <td>10</td>\n",
       "      <td>0</td>\n",
       "      <td>SUP034822</td>\n",
       "      <td>219636-1</td>\n",
       "      <td>19.0</td>\n",
       "      <td>16.0</td>\n",
       "      <td>130.0</td>\n",
       "      <td>169.0</td>\n",
       "      <td>2020-11-11</td>\n",
       "      <td>2021-07-02</td>\n",
       "      <td>1746.00</td>\n",
       "      <td>219636-1_SUP034822</td>\n",
       "      <td>167</td>\n",
       "      <td>3.0</td>\n",
       "      <td>8</td>\n",
       "    </tr>\n",
       "    <tr>\n",
       "      <th>3</th>\n",
       "      <td>BAP000007</td>\n",
       "      <td>10</td>\n",
       "      <td>1</td>\n",
       "      <td>SUP034822</td>\n",
       "      <td>219636-1</td>\n",
       "      <td>3.0</td>\n",
       "      <td>2.0</td>\n",
       "      <td>130.0</td>\n",
       "      <td>169.0</td>\n",
       "      <td>2020-11-11</td>\n",
       "      <td>2021-07-21</td>\n",
       "      <td>1746.00</td>\n",
       "      <td>219636-1_SUP034822</td>\n",
       "      <td>180</td>\n",
       "      <td>1.0</td>\n",
       "      <td>8</td>\n",
       "    </tr>\n",
       "    <tr>\n",
       "      <th>4</th>\n",
       "      <td>BAP000008</td>\n",
       "      <td>10</td>\n",
       "      <td>0</td>\n",
       "      <td>SUP034822</td>\n",
       "      <td>219636-1</td>\n",
       "      <td>19.0</td>\n",
       "      <td>18.0</td>\n",
       "      <td>130.0</td>\n",
       "      <td>169.0</td>\n",
       "      <td>2020-11-11</td>\n",
       "      <td>2021-07-02</td>\n",
       "      <td>1746.00</td>\n",
       "      <td>219636-1_SUP034822</td>\n",
       "      <td>167</td>\n",
       "      <td>1.0</td>\n",
       "      <td>8</td>\n",
       "    </tr>\n",
       "    <tr>\n",
       "      <th>...</th>\n",
       "      <td>...</td>\n",
       "      <td>...</td>\n",
       "      <td>...</td>\n",
       "      <td>...</td>\n",
       "      <td>...</td>\n",
       "      <td>...</td>\n",
       "      <td>...</td>\n",
       "      <td>...</td>\n",
       "      <td>...</td>\n",
       "      <td>...</td>\n",
       "      <td>...</td>\n",
       "      <td>...</td>\n",
       "      <td>...</td>\n",
       "      <td>...</td>\n",
       "      <td>...</td>\n",
       "      <td>...</td>\n",
       "    </tr>\n",
       "    <tr>\n",
       "      <th>152851</th>\n",
       "      <td>TSS009928</td>\n",
       "      <td>10</td>\n",
       "      <td>0</td>\n",
       "      <td>SUP049443</td>\n",
       "      <td>23819R1</td>\n",
       "      <td>200.0</td>\n",
       "      <td>200.0</td>\n",
       "      <td>7.0</td>\n",
       "      <td>7.0</td>\n",
       "      <td>2021-12-14</td>\n",
       "      <td>2021-12-23</td>\n",
       "      <td>2.72</td>\n",
       "      <td>23819R1_SUP049443</td>\n",
       "      <td>7</td>\n",
       "      <td>0.0</td>\n",
       "      <td>0</td>\n",
       "    </tr>\n",
       "    <tr>\n",
       "      <th>152852</th>\n",
       "      <td>TSS009930</td>\n",
       "      <td>10</td>\n",
       "      <td>0</td>\n",
       "      <td>SUP049443</td>\n",
       "      <td>21535R1</td>\n",
       "      <td>40.0</td>\n",
       "      <td>40.0</td>\n",
       "      <td>7.0</td>\n",
       "      <td>7.0</td>\n",
       "      <td>2021-12-14</td>\n",
       "      <td>2021-12-23</td>\n",
       "      <td>0.03</td>\n",
       "      <td>21535R1_SUP049443</td>\n",
       "      <td>7</td>\n",
       "      <td>0.0</td>\n",
       "      <td>0</td>\n",
       "    </tr>\n",
       "    <tr>\n",
       "      <th>152853</th>\n",
       "      <td>TSS009930</td>\n",
       "      <td>20</td>\n",
       "      <td>0</td>\n",
       "      <td>SUP049443</td>\n",
       "      <td>1007238</td>\n",
       "      <td>50.0</td>\n",
       "      <td>50.0</td>\n",
       "      <td>7.0</td>\n",
       "      <td>7.0</td>\n",
       "      <td>2021-12-14</td>\n",
       "      <td>2021-12-23</td>\n",
       "      <td>1.54</td>\n",
       "      <td>1007238_SUP049443</td>\n",
       "      <td>7</td>\n",
       "      <td>0.0</td>\n",
       "      <td>0</td>\n",
       "    </tr>\n",
       "    <tr>\n",
       "      <th>152854</th>\n",
       "      <td>TSS009930</td>\n",
       "      <td>30</td>\n",
       "      <td>0</td>\n",
       "      <td>SUP049443</td>\n",
       "      <td>701643C1</td>\n",
       "      <td>100.0</td>\n",
       "      <td>100.0</td>\n",
       "      <td>7.0</td>\n",
       "      <td>7.0</td>\n",
       "      <td>2021-12-14</td>\n",
       "      <td>2021-12-23</td>\n",
       "      <td>0.06</td>\n",
       "      <td>701643C1_SUP049443</td>\n",
       "      <td>7</td>\n",
       "      <td>0.0</td>\n",
       "      <td>0</td>\n",
       "    </tr>\n",
       "    <tr>\n",
       "      <th>152855</th>\n",
       "      <td>TSS009930</td>\n",
       "      <td>60</td>\n",
       "      <td>0</td>\n",
       "      <td>SUP049443</td>\n",
       "      <td>962904C1</td>\n",
       "      <td>60.0</td>\n",
       "      <td>60.0</td>\n",
       "      <td>7.0</td>\n",
       "      <td>7.0</td>\n",
       "      <td>2021-12-14</td>\n",
       "      <td>2021-12-23</td>\n",
       "      <td>0.19</td>\n",
       "      <td>962904C1_SUP049443</td>\n",
       "      <td>7</td>\n",
       "      <td>0.0</td>\n",
       "      <td>0</td>\n",
       "    </tr>\n",
       "  </tbody>\n",
       "</table>\n",
       "<p>152856 rows × 16 columns</p>\n",
       "</div>"
      ],
      "text/plain": [
       "        PO Number  POS Number  Seq Number    BP Code  Part_Number  \\\n",
       "0       BAP000003          10           0  SLD063461  233313-8-0V   \n",
       "1       BAP000006          10           0  SUP067572  204286-4-2V   \n",
       "2       BAP000007          10           0  SUP034822     219636-1   \n",
       "3       BAP000007          10           1  SUP034822     219636-1   \n",
       "4       BAP000008          10           0  SUP034822     219636-1   \n",
       "...           ...         ...         ...        ...          ...   \n",
       "152851  TSS009928          10           0  SUP049443      23819R1   \n",
       "152852  TSS009930          10           0  SUP049443      21535R1   \n",
       "152853  TSS009930          20           0  SUP049443      1007238   \n",
       "152854  TSS009930          30           0  SUP049443     701643C1   \n",
       "152855  TSS009930          60           0  SUP049443     962904C1   \n",
       "\n",
       "        Ordered Qty  Delivered Qty  ISI Lead Time  Dem LT PO Creation Date  \\\n",
       "0               1.0            1.0            NaN     8.0       2020-10-19   \n",
       "1               3.0            3.0            5.0     4.0       2020-10-27   \n",
       "2              19.0           16.0          130.0   169.0       2020-11-11   \n",
       "3               3.0            2.0          130.0   169.0       2020-11-11   \n",
       "4              19.0           18.0          130.0   169.0       2020-11-11   \n",
       "...             ...            ...            ...     ...              ...   \n",
       "152851        200.0          200.0            7.0     7.0       2021-12-14   \n",
       "152852         40.0           40.0            7.0     7.0       2021-12-14   \n",
       "152853         50.0           50.0            7.0     7.0       2021-12-14   \n",
       "152854        100.0          100.0            7.0     7.0       2021-12-14   \n",
       "152855         60.0           60.0            7.0     7.0       2021-12-14   \n",
       "\n",
       "       Actual Delivery Date  Unit Price             PN_BP_code  true_dem_lt  \\\n",
       "0                2020-10-29     2718.31  233313-8-0V_SLD063461            8   \n",
       "1                2020-11-02       62.50  204286-4-2V_SUP067572            4   \n",
       "2                2021-07-02     1746.00     219636-1_SUP034822          167   \n",
       "3                2021-07-21     1746.00     219636-1_SUP034822          180   \n",
       "4                2021-07-02     1746.00     219636-1_SUP034822          167   \n",
       "...                     ...         ...                    ...          ...   \n",
       "152851           2021-12-23        2.72      23819R1_SUP049443            7   \n",
       "152852           2021-12-23        0.03      21535R1_SUP049443            7   \n",
       "152853           2021-12-23        1.54      1007238_SUP049443            7   \n",
       "152854           2021-12-23        0.06     701643C1_SUP049443            7   \n",
       "152855           2021-12-23        0.19     962904C1_SUP049443            7   \n",
       "\n",
       "        quantity_not_delivered Week_late  \n",
       "0                          0.0         0  \n",
       "1                          0.0         8  \n",
       "2                          3.0         8  \n",
       "3                          1.0         8  \n",
       "4                          1.0         8  \n",
       "...                        ...       ...  \n",
       "152851                     0.0         0  \n",
       "152852                     0.0         0  \n",
       "152853                     0.0         0  \n",
       "152854                     0.0         0  \n",
       "152855                     0.0         0  \n",
       "\n",
       "[152856 rows x 16 columns]"
      ]
     },
     "execution_count": 8,
     "metadata": {},
     "output_type": "execute_result"
    }
   ],
   "source": [
    "df_110['true_dem_lt'] = df_110.apply(lambda x: np.busday_count(x['PO Creation Date'].date(), x['Actual Delivery Date'].date()), axis = 1)\n",
    "\n",
    "df_110['quantity_not_delivered'] = df_110['Ordered Qty'] - df_110['Delivered Qty']\n",
    "\n",
    "df_110['Week_late'] = pd.cut(df_110.loc[:,'true_dem_lt'], bins = list(np.arange(7,70,7, dtype = int)), labels= False, right = True, include_lowest= True)\n",
    "df_110.Week_late.fillna('8', inplace= True)\n",
    "\n",
    "df_110"
   ]
  },
  {
   "cell_type": "code",
   "execution_count": 9,
   "metadata": {},
   "outputs": [],
   "source": [
    "def _rename_df(df):\n",
    "    col = ['Week_Late_'+str(i)+'.0' for i in range(0,8)]\n",
    "    for j in range(len(col)):\n",
    "        df = df.rename({col[j]:col[j][:-2]}, axis = 1)\n",
    "    return df\n",
    "\n",
    "df_110 = df_110.merge(pd.get_dummies(df_110.Week_late, prefix= 'Week_Late'), left_index= True, right_index= True)\n",
    "\n",
    "df_110 = _rename_df(df_110)"
   ]
  },
  {
   "cell_type": "code",
   "execution_count": 10,
   "metadata": {},
   "outputs": [
    {
     "data": {
      "text/plain": [
       "Index(['PO Number', 'POS Number', 'Seq Number', 'BP Code', 'Part_Number',\n",
       "       'Ordered Qty', 'Delivered Qty', 'ISI Lead Time', 'Dem LT',\n",
       "       'PO Creation Date', 'Actual Delivery Date', 'Unit Price', 'PN_BP_code',\n",
       "       'true_dem_lt', 'quantity_not_delivered', 'Week_late', 'Week_Late_0',\n",
       "       'Week_Late_1', 'Week_Late_2', 'Week_Late_3', 'Week_Late_4',\n",
       "       'Week_Late_5', 'Week_Late_6', 'Week_Late_7', 'Week_Late_8'],\n",
       "      dtype='object')"
      ]
     },
     "execution_count": 10,
     "metadata": {},
     "output_type": "execute_result"
    }
   ],
   "source": [
    "df_110.columns"
   ]
  },
  {
   "cell_type": "code",
   "execution_count": 11,
   "metadata": {},
   "outputs": [],
   "source": [
    "df_126['true_dem_lt'] = df_126.apply(lambda x: np.busday_count(x['PO Creation Date'].date(), x['Actual Delivery Date'].date()), axis = 1)\n",
    "\n",
    "df_126['quantity_not_delivered'] = df_126['Ordered Qty'] - df_126['Delivered Qty']\n",
    "\n"
   ]
  },
  {
   "cell_type": "code",
   "execution_count": 12,
   "metadata": {},
   "outputs": [],
   "source": [
    "df_297['true_dem_lt'] = df_297.apply(lambda x: np.busday_count(x['PO Creation Date'].date(), x['Actual Delivery Date'].date()), axis = 1)\n",
    "\n",
    "df_297['quantity_not_delivered'] = df_297['Ordered Qty'] - df_297['Delivered Qty']\n",
    "\n"
   ]
  },
  {
   "cell_type": "code",
   "execution_count": 14,
   "metadata": {},
   "outputs": [],
   "source": [
    "df_298['true_dem_lt'] = df_298.apply(lambda x: np.busday_count(x['PO Creation Date'].date(), x['Actual Delivery Date'].date()), axis = 1)\n",
    "\n",
    "df_298['quantity_not_delivered'] = df_298['Ordered Qty'] - df_298['Delivered Qty']\n",
    "\n",
    "\n"
   ]
  },
  {
   "cell_type": "markdown",
   "metadata": {},
   "source": [
    "## Data Exploration"
   ]
  },
  {
   "cell_type": "markdown",
   "metadata": {},
   "source": [
    "We first start our analysis by understanding the dataset at hand. \n",
    "<br> Our main objective is to improve delivery performance by optimizing the size of the order: the order quantity. \n",
    "<br> We define an order as\n",
    "- <strong> Efficient</strong>: if the supplier was able to deliver the ordered quantity within the ISI lead time (the estimated number of days given by the supplier to fulfil the order).\n",
    "- <strong>  Inefficient</strong>: otherwise.\n",
    "\n",
    "<br> If the ISI Lead Time has not been disclosed by the supplier, we estimate it. "
   ]
  },
  {
   "cell_type": "markdown",
   "metadata": {},
   "source": [
    "### Approximation of Lead Time"
   ]
  },
  {
   "cell_type": "markdown",
   "metadata": {},
   "source": [
    "Lead time is the amount of days that a supplier will take in order to deliver a specific product, products may be delivered together and they take different time according to the quantity ordered. For the sake of simplicity we approximate the lead time for those orders that lack one, by taking the mean lead time asked to deliver a particular order both by product and by supplier. "
   ]
  },
  {
   "cell_type": "code",
   "execution_count": 307,
   "metadata": {},
   "outputs": [],
   "source": [
    "def avg_lt_by(dt, by_what = 'Part Number'):\n",
    "    \"\"\"\n",
    "    This function approximates lead time, by taking the average lead time for that specific product or for that specific supplier\n",
    "    \"\"\"\n",
    "    df = dt.copy()\n",
    "    prod_med_lt = df.groupby(by_what)[['ISI Lead Time']].median().reset_index().rename(columns = {'ISI Lead Time':'median_lead_time'})\n",
    "    prod_med_lt = prod_med_lt.set_index(by_what).to_dict()['median_lead_time']\n",
    "    if 'ISI_lead_time' not in dt.columns: \n",
    "        df['isi_lt_missing'] = df['ISI Lead Time'].isna()\n",
    "        dt['ISI_lead_time'] = df.apply(lambda x: prod_med_lt[x[by_what]] if x.isi_lt_missing == True else x['ISI Lead Time'], axis = 1)\n",
    "    else: \n",
    "        df['isi_lt_missing'] = dt['ISI_lead_time'].isna()\n",
    "        dt['ISI_lead_time'] = df.apply(lambda x: prod_med_lt[x[by_what]] if x.isi_lt_missing == True else x['ISI_lead_time'], axis = 1)\n"
   ]
  },
  {
   "cell_type": "code",
   "execution_count": 308,
   "metadata": {},
   "outputs": [],
   "source": [
    "avg_lt_by(df_110, by_what = 'BP Code')\n",
    "avg_lt_by(df_110)"
   ]
  },
  {
   "cell_type": "code",
   "execution_count": 309,
   "metadata": {},
   "outputs": [
    {
     "name": "stdout",
     "output_type": "stream",
     "text": [
      "We still have 4317 rows where ISI lead time is not present, or has not been approximated so we drop this.\n"
     ]
    }
   ],
   "source": [
    "print(f\"We still have {df_110.ISI_lead_time.isna().sum()} rows where ISI lead time is not present, or has not been approximated so we drop this.\")\n",
    "df_110 = df_110[~df_110.ISI_lead_time.isna()].reset_index(drop = True)"
   ]
  },
  {
   "cell_type": "code",
   "execution_count": 310,
   "metadata": {},
   "outputs": [],
   "source": [
    "#Deal with outliers, there are some datapoints where the Actual Delivery date is larger than PO Creation Date, we filter those rows out.\n",
    "df_110 = df_110[df_110.true_dem_lt >= 0].reset_index(drop = True)"
   ]
  },
  {
   "cell_type": "markdown",
   "metadata": {},
   "source": [
    "We now try to come up with the first draft of an efficiency measure: namely if the supplier was able to deliver within its disclosed estimated lead time, then we will classify that deliver as efficient, otherwise not."
   ]
  },
  {
   "cell_type": "code",
   "execution_count": 311,
   "metadata": {},
   "outputs": [],
   "source": [
    "def compute_efficiency(dt):\n",
    "    df = dt.copy()\n",
    "    df['efficient_shipment'] = df.apply(lambda x: 0 if x.true_dem_lt > x.ISI_lead_time else 1, axis = 1)\n",
    "    return df"
   ]
  },
  {
   "cell_type": "code",
   "execution_count": 364,
   "metadata": {},
   "outputs": [
    {
     "data": {
      "image/png": "[encoded data removed]",
      "text/plain": [
       "<Figure size 720x720 with 1 Axes>"
      ]
     },
     "metadata": {},
     "output_type": "display_data"
    }
   ],
   "source": [
    "fig = plt.figure(figsize= (10,10))\n",
    "\n",
    "test = compute_efficiency(df_110)\n",
    "ax = sns.histplot(test.efficient_shipment, binwidth = 0.2)\n",
    "\n",
    "ax.set_ylabel('Frequency')\n",
    "ax.set_xlabel('')\n",
    "plt.title('Efficient vs Inefficient Shipments')\n",
    "\n",
    "plt.show()\n"
   ]
  },
  {
   "cell_type": "code",
   "execution_count": 324,
   "metadata": {},
   "outputs": [],
   "source": [
    "efficiency_by_supplier = test.groupby('BP Code')[['efficient_shipment']].sum().sort_values(by = 'efficient_shipment', ascending = False)"
   ]
  },
  {
   "cell_type": "markdown",
   "metadata": {},
   "source": [
    "We try to understand how many suppliers are efficient, in particular we set up a threshold and consider only those suppliers that have delivered at least 5 products in their lifetime to this factory."
   ]
  },
  {
   "cell_type": "code",
   "execution_count": 325,
   "metadata": {},
   "outputs": [],
   "source": [
    "thre = 5 #at least they delivered n products\n",
    "\n",
    "efficiency_by_supplier = test.groupby('BP Code')[['efficient_shipment']].sum().sort_values(by = 'efficient_shipment', ascending = False)\n",
    "tot_shipments_by_supplier = test.groupby('BP Code')[['PO Number']].count()\n",
    "tot_shipments_by_supplier = tot_shipments_by_supplier.rename(columns= {'PO Number':'tot_n_products_shipped'})\n",
    "\n",
    "efficiency_table = efficiency_by_supplier.merge(tot_shipments_by_supplier, left_index = True, right_index = True)\n",
    "efficiency_table['perc_efficient_orders'] = efficiency_table.efficient_shipment / efficiency_table['tot_n_products_shipped']\n",
    "efficiency_table = efficiency_table[efficiency_table['tot_n_products_shipped'] > thre].reset_index()\n",
    "efficiency_table = efficiency_table.sort_values(by = 'perc_efficient_orders', ascending = False)\n",
    "\n"
   ]
  },
  {
   "cell_type": "code",
   "execution_count": 326,
   "metadata": {},
   "outputs": [
    {
     "data": {
      "text/plain": [
       "573"
      ]
     },
     "execution_count": 326,
     "metadata": {},
     "output_type": "execute_result"
    }
   ],
   "source": [
    "len(df_110['BP Code'].unique())"
   ]
  },
  {
   "cell_type": "code",
   "execution_count": 327,
   "metadata": {},
   "outputs": [
    {
     "data": {
      "text/html": [
       "<div>\n",
       "<style scoped>\n",
       "    .dataframe tbody tr th:only-of-type {\n",
       "        vertical-align: middle;\n",
       "    }\n",
       "\n",
       "    .dataframe tbody tr th {\n",
       "        vertical-align: top;\n",
       "    }\n",
       "\n",
       "    .dataframe thead th {\n",
       "        text-align: right;\n",
       "    }\n",
       "</style>\n",
       "<table border=\"1\" class=\"dataframe\">\n",
       "  <thead>\n",
       "    <tr style=\"text-align: right;\">\n",
       "      <th></th>\n",
       "      <th>BP Code</th>\n",
       "      <th>efficient_shipment</th>\n",
       "      <th>tot_n_products_shipped</th>\n",
       "      <th>perc_efficient_orders</th>\n",
       "    </tr>\n",
       "  </thead>\n",
       "  <tbody>\n",
       "    <tr>\n",
       "      <th>57</th>\n",
       "      <td>SUP006022</td>\n",
       "      <td>265</td>\n",
       "      <td>265</td>\n",
       "      <td>1.0</td>\n",
       "    </tr>\n",
       "    <tr>\n",
       "      <th>334</th>\n",
       "      <td>SUP043921</td>\n",
       "      <td>9</td>\n",
       "      <td>9</td>\n",
       "      <td>1.0</td>\n",
       "    </tr>\n",
       "    <tr>\n",
       "      <th>279</th>\n",
       "      <td>SUP085822</td>\n",
       "      <td>16</td>\n",
       "      <td>16</td>\n",
       "      <td>1.0</td>\n",
       "    </tr>\n",
       "    <tr>\n",
       "      <th>302</th>\n",
       "      <td>SUPA36011</td>\n",
       "      <td>13</td>\n",
       "      <td>13</td>\n",
       "      <td>1.0</td>\n",
       "    </tr>\n",
       "    <tr>\n",
       "      <th>308</th>\n",
       "      <td>SUP074595</td>\n",
       "      <td>12</td>\n",
       "      <td>12</td>\n",
       "      <td>1.0</td>\n",
       "    </tr>\n",
       "    <tr>\n",
       "      <th>...</th>\n",
       "      <td>...</td>\n",
       "      <td>...</td>\n",
       "      <td>...</td>\n",
       "      <td>...</td>\n",
       "    </tr>\n",
       "    <tr>\n",
       "      <th>454</th>\n",
       "      <td>SUP034836</td>\n",
       "      <td>0</td>\n",
       "      <td>15</td>\n",
       "      <td>0.0</td>\n",
       "    </tr>\n",
       "    <tr>\n",
       "      <th>455</th>\n",
       "      <td>SUPA06554</td>\n",
       "      <td>0</td>\n",
       "      <td>72</td>\n",
       "      <td>0.0</td>\n",
       "    </tr>\n",
       "    <tr>\n",
       "      <th>456</th>\n",
       "      <td>SUP083332</td>\n",
       "      <td>0</td>\n",
       "      <td>23</td>\n",
       "      <td>0.0</td>\n",
       "    </tr>\n",
       "    <tr>\n",
       "      <th>457</th>\n",
       "      <td>SUP062363</td>\n",
       "      <td>0</td>\n",
       "      <td>7</td>\n",
       "      <td>0.0</td>\n",
       "    </tr>\n",
       "    <tr>\n",
       "      <th>458</th>\n",
       "      <td>SUP071631</td>\n",
       "      <td>0</td>\n",
       "      <td>19</td>\n",
       "      <td>0.0</td>\n",
       "    </tr>\n",
       "  </tbody>\n",
       "</table>\n",
       "<p>459 rows × 4 columns</p>\n",
       "</div>"
      ],
      "text/plain": [
       "       BP Code  efficient_shipment  tot_n_products_shipped  \\\n",
       "57   SUP006022                 265                     265   \n",
       "334  SUP043921                   9                       9   \n",
       "279  SUP085822                  16                      16   \n",
       "302  SUPA36011                  13                      13   \n",
       "308  SUP074595                  12                      12   \n",
       "..         ...                 ...                     ...   \n",
       "454  SUP034836                   0                      15   \n",
       "455  SUPA06554                   0                      72   \n",
       "456  SUP083332                   0                      23   \n",
       "457  SUP062363                   0                       7   \n",
       "458  SUP071631                   0                      19   \n",
       "\n",
       "     perc_efficient_orders  \n",
       "57                     1.0  \n",
       "334                    1.0  \n",
       "279                    1.0  \n",
       "302                    1.0  \n",
       "308                    1.0  \n",
       "..                     ...  \n",
       "454                    0.0  \n",
       "455                    0.0  \n",
       "456                    0.0  \n",
       "457                    0.0  \n",
       "458                    0.0  \n",
       "\n",
       "[459 rows x 4 columns]"
      ]
     },
     "execution_count": 327,
     "metadata": {},
     "output_type": "execute_result"
    }
   ],
   "source": [
    "efficiency_table"
   ]
  },
  {
   "cell_type": "code",
   "execution_count": 356,
   "metadata": {},
   "outputs": [
    {
     "data": {
      "image/png": "[encoded data removed]",
      "text/plain": [
       "<Figure size 720x720 with 1 Axes>"
      ]
     },
     "metadata": {},
     "output_type": "display_data"
    }
   ],
   "source": [
    "fig = plt.figure(figsize= (10,10))\n",
    "ax = sns.histplot(efficiency_table.perc_efficient_orders)\n",
    "\n",
    "\n",
    "ax.set_ylabel('Frequency')\n",
    "ax.set_xlabel('Percentage of Efficiently Shipped Products')\n",
    "plt.title('Efficient vs Inefficient Suppliers')\n",
    "\n",
    "plt.show()"
   ]
  },
  {
   "cell_type": "markdown",
   "metadata": {},
   "source": [
    "### Inspection of Waiting Time wrt to Ordered/Delivered/Not-Delivered Quantity in $"
   ]
  },
  {
   "cell_type": "markdown",
   "metadata": {},
   "source": [
    "We now want to inspect if there is any sort of relationship between waiting time and the quantity ordered that has not been delivered. In particular, our a priori assumption would be that if an order is not entirely fulfilled then this may had either positive or negative consequences on delivery performance. <br> <br>\n",
    "By <strong> positive consequences </strong> we define a lower time in delivering performance as they may had already that quantity in-stock and they sent immediately what they had. <br>\n",
    "By <strong> negative consequences </strong>: they could have been late in producing that product and to fulfil the request of our company they shipped it anyway, even if it wasn't the desired quantity.\n",
    "\n",
    "Since looking just at the quantity wouldn't be a relevant measure to compare different products, and given that we do not have weight information or other relavant dimensions that could enable us to assess the importance of that particular product, we convert everything in dollar terms and measure the relationship between waiting time and ordered quantity (in $). \n",
    "<br>\n",
    "<br> Let's look at the data and understand how relavant is this variable.\n"
   ]
  },
  {
   "cell_type": "code",
   "execution_count": 333,
   "metadata": {},
   "outputs": [
    {
     "name": "stdout",
     "output_type": "stream",
     "text": [
      "Correlation between waiting time and quantity not delivered: 0.0328919612637117\n",
      "Correlation between waiting time and quantity delivered: 0.18787280229029793\n",
      "Correlation between waiting time and quantity ordered: 0.18625079166090763\n"
     ]
    }
   ],
   "source": [
    "df_110['quantity_not_delivered_dollars'] = df_110.quantity_not_delivered * df_110['Unit Price']\n",
    "df_110['quantity_delivered_dollars'] = df_110['Delivered Qty'] * df_110['Unit Price']\n",
    "df_110['quantity_ordered_dollars'] = df_110['Ordered Qty'] * df_110['Unit Price']\n",
    "print(f\"Correlation between waiting time and quantity not delivered: {df_110.true_dem_lt.corr(df_110.quantity_not_delivered_dollars)}\")\n",
    "print(f\"Correlation between waiting time and quantity delivered: {df_110.true_dem_lt.corr(df_110.quantity_delivered_dollars)}\")\n",
    "print(f\"Correlation between waiting time and quantity ordered: {df_110.true_dem_lt.corr(df_110.quantity_ordered_dollars)}\")"
   ]
  },
  {
   "cell_type": "code",
   "execution_count": 334,
   "metadata": {},
   "outputs": [],
   "source": [
    "\"\"\"\n",
    "Simple linear regression to assess sign of the effect\n",
    "\"\"\"\n",
    "\n",
    "import statsmodels.api as sm\n",
    "X = df_110[['quantity_ordered_dollars']]\n",
    "X = sm.add_constant(X)\n",
    "y = df_110.true_dem_lt.values\n",
    "mod = sm.OLS(y, X)\n",
    "res = mod.fit()\n"
   ]
  },
  {
   "cell_type": "code",
   "execution_count": 335,
   "metadata": {},
   "outputs": [
    {
     "name": "stdout",
     "output_type": "stream",
     "text": [
      "                            OLS Regression Results                            \n",
      "==============================================================================\n",
      "Dep. Variable:                      y   R-squared:                       0.035\n",
      "Model:                            OLS   Adj. R-squared:                  0.035\n",
      "Method:                 Least Squares   F-statistic:                     7590.\n",
      "Date:                Thu, 17 Mar 2022   Prob (F-statistic):               0.00\n",
      "Time:                        14:23:47   Log-Likelihood:            -1.1719e+06\n",
      "No. Observations:              211214   AIC:                         2.344e+06\n",
      "Df Residuals:                  211212   BIC:                         2.344e+06\n",
      "Df Model:                           1                                         \n",
      "Covariance Type:            nonrobust                                         \n",
      "============================================================================================\n",
      "                               coef    std err          t      P>|t|      [0.025      0.975]\n",
      "--------------------------------------------------------------------------------------------\n",
      "const                       34.5005      0.136    252.907      0.000      34.233      34.768\n",
      "quantity_ordered_dollars     0.0002   2.74e-06     87.121      0.000       0.000       0.000\n",
      "==============================================================================\n",
      "Omnibus:                   194783.528   Durbin-Watson:                   0.512\n",
      "Prob(Omnibus):                  0.000   Jarque-Bera (JB):         24807528.572\n",
      "Skew:                           4.028   Prob(JB):                         0.00\n",
      "Kurtosis:                      55.478   Cond. No.                     5.03e+04\n",
      "==============================================================================\n",
      "\n",
      "Notes:\n",
      "[1] Standard Errors assume that the covariance matrix of the errors is correctly specified.\n",
      "[2] The condition number is large, 5.03e+04. This might indicate that there are\n",
      "strong multicollinearity or other numerical problems.\n"
     ]
    }
   ],
   "source": [
    "print(res.summary())"
   ]
  },
  {
   "cell_type": "markdown",
   "metadata": {},
   "source": [
    "Given the high correlation and the significant effect (even though the small magnitude of the coefficient) of quantity delivered (in dollars amount) on waiting time, we want to explore if this is something that happens for all suppliers or there's a cluster (group) of suppliers for which the quantity delivered has an higher impact on waiting time compared to other suppliers."
   ]
  },
  {
   "cell_type": "code",
   "execution_count": 353,
   "metadata": {},
   "outputs": [
    {
     "data": {
      "image/png": "[encoded data removed]",
      "text/plain": [
       "<Figure size 720x720 with 1 Axes>"
      ]
     },
     "metadata": {},
     "output_type": "display_data"
    }
   ],
   "source": [
    "fig = plt.figure(figsize= (10,10))\n",
    "\n",
    "hist_corr_0 = df_110.groupby('BP Code')[['true_dem_lt','quantity_ordered_dollars']].corr().reset_index().groupby('BP Code').first()[['quantity_ordered_dollars']]\n",
    "\n",
    "ax = sns.histplot(hist_corr_0.quantity_ordered_dollars)\n",
    "\n",
    "ax.set_xlabel('')\n",
    "plt.title('Correlation Histogram between Waiting Time and Quantity Ordered (by supplier) ($)')\n",
    "\n",
    "plt.show()"
   ]
  },
  {
   "cell_type": "markdown",
   "metadata": {},
   "source": [
    "We see that for the majority of our suppliers the quantity delivered in dollars amount has a positive correlation with respect to lead time, suggesting that this is indeed an important variable for the majority of our suppliers to optimize the delivery performance. "
   ]
  },
  {
   "cell_type": "markdown",
   "metadata": {},
   "source": [
    "Let's see if the quantity delivered (in $ amount) is also correlated to lead time for all products now."
   ]
  },
  {
   "cell_type": "code",
   "execution_count": 352,
   "metadata": {},
   "outputs": [
    {
     "data": {
      "image/png": "[encoded data removed]",
      "text/plain": [
       "<Figure size 720x720 with 1 Axes>"
      ]
     },
     "metadata": {},
     "output_type": "display_data"
    }
   ],
   "source": [
    "fig = plt.figure(figsize= (10,10))\n",
    "\n",
    "hist_corr_1 = df_110.groupby('Part Number')[['true_dem_lt','quantity_ordered_dollars']].corr().reset_index().groupby('Part Number').first()[['quantity_ordered_dollars']]\n",
    "\n",
    "\n",
    "ax = sns.histplot(hist_corr_1.quantity_ordered_dollars)\n",
    "\n",
    "ax.set_xlabel('')\n",
    "plt.title('Correlation Histogram between Waiting Time and Quantity Ordered ($) (by product)')\n",
    "\n",
    "plt.show()"
   ]
  },
  {
   "cell_type": "markdown",
   "metadata": {},
   "source": [
    "Here, we see a different result, by part even if the quantity ordered goes up the leading time is sometime negatively effected (so this is good for us:less time) and other times is instead positively affected as we would have expected (more time to deliver more goods). \n",
    "<br>\n",
    "As next step, it will be interesting to see those product that are positively affected and optimize the ordered quantity (thus the delivered one only for those). "
   ]
  },
  {
   "cell_type": "markdown",
   "metadata": {},
   "source": [
    "## Questions"
   ]
  },
  {
   "cell_type": "markdown",
   "metadata": {},
   "source": [
    "1) PO Number:\n",
    "    - Is the PO number supposed to repeat across datasets?\n",
    "    - Can goods from same PO be delivered to the same factory at different times?\n",
    "#  \n",
    "2) POS:\n",
    "    - How do we classifify goods using POS number and why arent they all in increments of 10 (ie. 61, 62)?\n",
    "# \n",
    "3) Dem lt:  \n",
    "    - How was the Dem Lt calculated? We got different results. Holidays? Should we calculate different holdays based on internation suppliers?\n",
    "# \n",
    "4) ISI Lead Time: \n",
    "    - ISI lead time contains lots of nulls\n",
    "    - Does ISI lead time contain shipping?\n",
    "    - Can we use other numbers(ie averages) to fill in Values?\n",
    "#  \n",
    "5) Miscellaneous\n",
    "    - 470 rows across 170 dates in sheet 110 alone were delivered before the order was placed. What is happening there?\n",
    "    #df_110[df_110.true_dem_lt < 0]\n"
   ]
  }
 ],
 "metadata": {
  "kernelspec": {
   "display_name": "Python 3",
   "language": "python",
   "name": "python3"
  },
  "language_info": {
   "codemirror_mode": {
    "name": "ipython",
    "version": 3
   },
   "file_extension": ".py",
   "mimetype": "text/x-python",
   "name": "python",
   "nbconvert_exporter": "python",
   "pygments_lexer": "ipython3",
   "version": "3.8.5"
  },
  "latex_envs": {
   "LaTeX_envs_menu_present": true,
   "autoclose": false,
   "autocomplete": true,
   "bibliofile": "biblio.bib",
   "cite_by": "apalike",
   "current_citInitial": 1,
   "eqLabelWithNumbers": true,
   "eqNumInitial": 1,
   "hotkeys": {
    "equation": "Ctrl-E",
    "itemize": "Ctrl-I"
   },
   "labels_anchors": false,
   "latex_user_defs": false,
   "report_style_numbering": false,
   "user_envs_cfg": false
  }
 },
 "nbformat": 4,
 "nbformat_minor": 2
}
