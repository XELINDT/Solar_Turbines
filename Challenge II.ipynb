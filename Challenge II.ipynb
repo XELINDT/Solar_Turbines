{
 "cells": [
  {
   "cell_type": "markdown",
   "metadata": {},
   "source": [
    "Imports"
   ]
  },
  {
   "cell_type": "code",
   "execution_count": 4,
   "metadata": {},
   "outputs": [],
   "source": [
    "from pathlib import Path\n",
    "import pandas as pd\n",
    "import numpy as np\n",
    "import statsmodels.api as sm"
   ]
  },
  {
   "cell_type": "code",
   "execution_count": 5,
   "metadata": {},
   "outputs": [],
   "source": [
    "df = pd.read_csv(r'C:\\Users\\xelin\\OneDrive\\Desktop\\Graduate School\\3rd trimester\\capstone\\forecasting data\\merged data.csv')"
   ]
  },
  {
   "cell_type": "markdown",
   "metadata": {},
   "source": [
    "Data Cleaning"
   ]
  },
  {
   "cell_type": "code",
   "execution_count": 6,
   "metadata": {},
   "outputs": [],
   "source": [
    "df = df.loc[:, ~df.columns.str.contains('^Unnamed')]"
   ]
  },
  {
   "cell_type": "code",
   "execution_count": 7,
   "metadata": {},
   "outputs": [],
   "source": [
    "df= df.fillna(0)\n",
    "df = df.drop(['Q1'], axis=1)\n",
    "df = df.iloc[:36,]"
   ]
  },
  {
   "cell_type": "code",
   "execution_count": 8,
   "metadata": {},
   "outputs": [
    {
     "data": {
      "text/plain": [
       "Date                                                object\n",
       "Mean PO Value per month                              int32\n",
       "Total Customer Services Demand - Next 12 Months      int32\n",
       "Total Demand Over the Next 12 Months                 int32\n",
       "PPI metal                                            int32\n",
       "Oil Rigs                                             int64\n",
       "Q2                                                   int32\n",
       "Q3                                                   int32\n",
       "Q4                                                   int32\n",
       "Gas Storage                                        float64\n",
       "Emp(1000s)                                         float64\n",
       "volativity                                         float64\n",
       "FDI                                                  int64\n",
       "dtype: object"
      ]
     },
     "execution_count": 8,
     "metadata": {},
     "output_type": "execute_result"
    }
   ],
   "source": [
    "df['Mean PO Value per month'] = df['Mean PO Value per month'].astype(int)\n",
    "df['Total Customer Services Demand - Next 12 Months'] = df['Total Customer Services Demand - Next 12 Months'].astype(int)\n",
    "df['Total Demand Over the Next 12 Months'] = df['Total Demand Over the Next 12 Months'].astype(int)\n",
    "df['PPI metal'] = df['PPI metal'].astype(int)\n",
    "df['Q2'] = df['Q2'].astype(int)\n",
    "df['Q3'] = df['Q3'].astype(int)\n",
    "df['Q4'] = df['Q4'].astype(int)\n",
    "df.dtypes"
   ]
  },
  {
   "cell_type": "code",
   "execution_count": 9,
   "metadata": {},
   "outputs": [],
   "source": [
    "df['Mean PO Value per month'] = df['Mean PO Value per month'].div(100000).round(2)\n",
    "df['Total Customer Services Demand - Next 12 Months'] = df['Total Customer Services Demand - Next 12 Months'].div(100000).round(2)\n",
    "df['Total Demand Over the Next 12 Months'] = df['Total Demand Over the Next 12 Months'].div(100000).round(2)\n"
   ]
  },
  {
   "cell_type": "code",
   "execution_count": 10,
   "metadata": {},
   "outputs": [],
   "source": [
    "PO_df = df.drop(['Total Customer Services Demand - Next 12 Months', 'Total Demand Over the Next 12 Months', 'Date'], axis=1)\n",
    "CS_df = df.drop(['Mean PO Value per month', 'Total Demand Over the Next 12 Months', 'Date'], axis=1)\n",
    "TD_df = df.drop(['Mean PO Value per month', 'Total Customer Services Demand - Next 12 Months', 'Date'], axis=1)"
   ]
  },
  {
   "cell_type": "markdown",
   "metadata": {},
   "source": [
    "Model Building"
   ]
  },
  {
   "cell_type": "code",
   "execution_count": 20,
   "metadata": {},
   "outputs": [
    {
     "data": {
      "text/html": [
       "<table class=\"simpletable\">\n",
       "<caption>OLS Regression Results</caption>\n",
       "<tr>\n",
       "  <th>Dep. Variable:</th>    <td>Mean PO Value per month</td> <th>  R-squared:         </th> <td>   0.933</td>\n",
       "</tr>\n",
       "<tr>\n",
       "  <th>Model:</th>                      <td>OLS</td>           <th>  Adj. R-squared:    </th> <td>   0.926</td>\n",
       "</tr>\n",
       "<tr>\n",
       "  <th>Method:</th>                <td>Least Squares</td>      <th>  F-statistic:       </th> <td>   147.6</td>\n",
       "</tr>\n",
       "<tr>\n",
       "  <th>Date:</th>                <td>Wed, 20 Apr 2022</td>     <th>  Prob (F-statistic):</th> <td>8.09e-19</td>\n",
       "</tr>\n",
       "<tr>\n",
       "  <th>Time:</th>                    <td>10:02:36</td>         <th>  Log-Likelihood:    </th> <td> -242.63</td>\n",
       "</tr>\n",
       "<tr>\n",
       "  <th>No. Observations:</th>         <td>    36</td>          <th>  AIC:               </th> <td>   493.3</td>\n",
       "</tr>\n",
       "<tr>\n",
       "  <th>Df Residuals:</th>             <td>    32</td>          <th>  BIC:               </th> <td>   499.6</td>\n",
       "</tr>\n",
       "<tr>\n",
       "  <th>Df Model:</th>                 <td>     3</td>          <th>                     </th>     <td> </td>   \n",
       "</tr>\n",
       "<tr>\n",
       "  <th>Covariance Type:</th>         <td>nonrobust</td>        <th>                     </th>     <td> </td>   \n",
       "</tr>\n",
       "</table>\n",
       "<table class=\"simpletable\">\n",
       "<tr>\n",
       "       <td></td>         <th>coef</th>     <th>std err</th>      <th>t</th>      <th>P>|t|</th>  <th>[0.025</th>    <th>0.975]</th>  \n",
       "</tr>\n",
       "<tr>\n",
       "  <th>const</th>      <td>-1.091e+04</td> <td>  850.117</td> <td>  -12.833</td> <td> 0.000</td> <td>-1.26e+04</td> <td>-9177.632</td>\n",
       "</tr>\n",
       "<tr>\n",
       "  <th>Q4</th>         <td>  391.8622</td> <td>   84.636</td> <td>    4.630</td> <td> 0.000</td> <td>  219.464</td> <td>  564.261</td>\n",
       "</tr>\n",
       "<tr>\n",
       "  <th>Emp(1000s)</th> <td>  107.2950</td> <td>    5.940</td> <td>   18.064</td> <td> 0.000</td> <td>   95.196</td> <td>  119.394</td>\n",
       "</tr>\n",
       "<tr>\n",
       "  <th>volativity</th> <td>   -2.8004</td> <td>    1.425</td> <td>   -1.966</td> <td> 0.058</td> <td>   -5.702</td> <td>    0.101</td>\n",
       "</tr>\n",
       "</table>\n",
       "<table class=\"simpletable\">\n",
       "<tr>\n",
       "  <th>Omnibus:</th>       <td> 4.299</td> <th>  Durbin-Watson:     </th> <td>   1.126</td>\n",
       "</tr>\n",
       "<tr>\n",
       "  <th>Prob(Omnibus):</th> <td> 0.117</td> <th>  Jarque-Bera (JB):  </th> <td>   3.166</td>\n",
       "</tr>\n",
       "<tr>\n",
       "  <th>Skew:</th>          <td> 0.710</td> <th>  Prob(JB):          </th> <td>   0.205</td>\n",
       "</tr>\n",
       "<tr>\n",
       "  <th>Kurtosis:</th>      <td> 3.312</td> <th>  Cond. No.          </th> <td>3.40e+03</td>\n",
       "</tr>\n",
       "</table><br/><br/>Notes:<br/>[1] Standard Errors assume that the covariance matrix of the errors is correctly specified.<br/>[2] The condition number is large, 3.4e+03. This might indicate that there are<br/>strong multicollinearity or other numerical problems."
      ],
      "text/plain": [
       "<class 'statsmodels.iolib.summary.Summary'>\n",
       "\"\"\"\n",
       "                               OLS Regression Results                              \n",
       "===================================================================================\n",
       "Dep. Variable:     Mean PO Value per month   R-squared:                       0.933\n",
       "Model:                                 OLS   Adj. R-squared:                  0.926\n",
       "Method:                      Least Squares   F-statistic:                     147.6\n",
       "Date:                     Wed, 20 Apr 2022   Prob (F-statistic):           8.09e-19\n",
       "Time:                             10:02:36   Log-Likelihood:                -242.63\n",
       "No. Observations:                       36   AIC:                             493.3\n",
       "Df Residuals:                           32   BIC:                             499.6\n",
       "Df Model:                                3                                         \n",
       "Covariance Type:                 nonrobust                                         \n",
       "==============================================================================\n",
       "                 coef    std err          t      P>|t|      [0.025      0.975]\n",
       "------------------------------------------------------------------------------\n",
       "const      -1.091e+04    850.117    -12.833      0.000   -1.26e+04   -9177.632\n",
       "Q4           391.8622     84.636      4.630      0.000     219.464     564.261\n",
       "Emp(1000s)   107.2950      5.940     18.064      0.000      95.196     119.394\n",
       "volativity    -2.8004      1.425     -1.966      0.058      -5.702       0.101\n",
       "==============================================================================\n",
       "Omnibus:                        4.299   Durbin-Watson:                   1.126\n",
       "Prob(Omnibus):                  0.117   Jarque-Bera (JB):                3.166\n",
       "Skew:                           0.710   Prob(JB):                        0.205\n",
       "Kurtosis:                       3.312   Cond. No.                     3.40e+03\n",
       "==============================================================================\n",
       "\n",
       "Notes:\n",
       "[1] Standard Errors assume that the covariance matrix of the errors is correctly specified.\n",
       "[2] The condition number is large, 3.4e+03. This might indicate that there are\n",
       "strong multicollinearity or other numerical problems.\n",
       "\"\"\""
      ]
     },
     "execution_count": 20,
     "metadata": {},
     "output_type": "execute_result"
    }
   ],
   "source": [
    "\n",
    "PO_X = PO_df.drop(['Mean PO Value per month','PPI metal', 'Oil Rigs', 'Q3', 'Q2', 'Gas Storage','FDI'], axis=1)\n",
    "PO_Y = PO_df['Mean PO Value per month']\n",
    "#fit a OLS model with intercept on TV and Radio\n",
    "PO_X = sm.add_constant(PO_X).astype(int)\n",
    "testPO = sm.OLS(PO_Y, PO_X).fit()\n",
    "testPO.summary()"
   ]
  },
  {
   "cell_type": "code",
   "execution_count": 12,
   "metadata": {},
   "outputs": [
    {
     "data": {
      "text/html": [
       "<table class=\"simpletable\">\n",
       "<caption>OLS Regression Results</caption>\n",
       "<tr>\n",
       "  <th>Dep. Variable:</th>    <td>Total Customer Services Demand - Next 12 Months</td> <th>  R-squared:         </th> <td>   0.801</td>\n",
       "</tr>\n",
       "<tr>\n",
       "  <th>Model:</th>                                  <td>OLS</td>                       <th>  Adj. R-squared:    </th> <td>   0.789</td>\n",
       "</tr>\n",
       "<tr>\n",
       "  <th>Method:</th>                            <td>Least Squares</td>                  <th>  F-statistic:       </th> <td>   66.38</td>\n",
       "</tr>\n",
       "<tr>\n",
       "  <th>Date:</th>                            <td>Tue, 19 Apr 2022</td>                 <th>  Prob (F-statistic):</th> <td>2.72e-12</td>\n",
       "</tr>\n",
       "<tr>\n",
       "  <th>Time:</th>                                <td>09:18:56</td>                     <th>  Log-Likelihood:    </th> <td> -268.56</td>\n",
       "</tr>\n",
       "<tr>\n",
       "  <th>No. Observations:</th>                     <td>    36</td>                      <th>  AIC:               </th> <td>   543.1</td>\n",
       "</tr>\n",
       "<tr>\n",
       "  <th>Df Residuals:</th>                         <td>    33</td>                      <th>  BIC:               </th> <td>   547.9</td>\n",
       "</tr>\n",
       "<tr>\n",
       "  <th>Df Model:</th>                             <td>     2</td>                      <th>                     </th>     <td> </td>   \n",
       "</tr>\n",
       "<tr>\n",
       "  <th>Covariance Type:</th>                     <td>nonrobust</td>                    <th>                     </th>     <td> </td>   \n",
       "</tr>\n",
       "</table>\n",
       "<table class=\"simpletable\">\n",
       "<tr>\n",
       "       <td></td>         <th>coef</th>     <th>std err</th>      <th>t</th>      <th>P>|t|</th>  <th>[0.025</th>    <th>0.975]</th>  \n",
       "</tr>\n",
       "<tr>\n",
       "  <th>const</th>      <td>-1.338e+04</td> <td> 1520.183</td> <td>   -8.799</td> <td> 0.000</td> <td>-1.65e+04</td> <td>-1.03e+04</td>\n",
       "</tr>\n",
       "<tr>\n",
       "  <th>PPI metal</th>  <td>   -8.3127</td> <td>    5.665</td> <td>   -1.467</td> <td> 0.152</td> <td>  -19.839</td> <td>    3.213</td>\n",
       "</tr>\n",
       "<tr>\n",
       "  <th>Emp(1000s)</th> <td>  135.7159</td> <td>   13.286</td> <td>   10.215</td> <td> 0.000</td> <td>  108.686</td> <td>  162.746</td>\n",
       "</tr>\n",
       "</table>\n",
       "<table class=\"simpletable\">\n",
       "<tr>\n",
       "  <th>Omnibus:</th>       <td>23.992</td> <th>  Durbin-Watson:     </th> <td>   1.388</td>\n",
       "</tr>\n",
       "<tr>\n",
       "  <th>Prob(Omnibus):</th> <td> 0.000</td> <th>  Jarque-Bera (JB):  </th> <td>  51.918</td>\n",
       "</tr>\n",
       "<tr>\n",
       "  <th>Skew:</th>          <td>-1.531</td> <th>  Prob(JB):          </th> <td>5.32e-12</td>\n",
       "</tr>\n",
       "<tr>\n",
       "  <th>Kurtosis:</th>      <td> 8.023</td> <th>  Cond. No.          </th> <td>5.45e+03</td>\n",
       "</tr>\n",
       "</table><br/><br/>Notes:<br/>[1] Standard Errors assume that the covariance matrix of the errors is correctly specified.<br/>[2] The condition number is large, 5.45e+03. This might indicate that there are<br/>strong multicollinearity or other numerical problems."
      ],
      "text/plain": [
       "<class 'statsmodels.iolib.summary.Summary'>\n",
       "\"\"\"\n",
       "                                           OLS Regression Results                                          \n",
       "===========================================================================================================\n",
       "Dep. Variable:     Total Customer Services Demand - Next 12 Months   R-squared:                       0.801\n",
       "Model:                                                         OLS   Adj. R-squared:                  0.789\n",
       "Method:                                              Least Squares   F-statistic:                     66.38\n",
       "Date:                                             Tue, 19 Apr 2022   Prob (F-statistic):           2.72e-12\n",
       "Time:                                                     09:18:56   Log-Likelihood:                -268.56\n",
       "No. Observations:                                               36   AIC:                             543.1\n",
       "Df Residuals:                                                   33   BIC:                             547.9\n",
       "Df Model:                                                        2                                         \n",
       "Covariance Type:                                         nonrobust                                         \n",
       "==============================================================================\n",
       "                 coef    std err          t      P>|t|      [0.025      0.975]\n",
       "------------------------------------------------------------------------------\n",
       "const      -1.338e+04   1520.183     -8.799      0.000   -1.65e+04   -1.03e+04\n",
       "PPI metal     -8.3127      5.665     -1.467      0.152     -19.839       3.213\n",
       "Emp(1000s)   135.7159     13.286     10.215      0.000     108.686     162.746\n",
       "==============================================================================\n",
       "Omnibus:                       23.992   Durbin-Watson:                   1.388\n",
       "Prob(Omnibus):                  0.000   Jarque-Bera (JB):               51.918\n",
       "Skew:                          -1.531   Prob(JB):                     5.32e-12\n",
       "Kurtosis:                       8.023   Cond. No.                     5.45e+03\n",
       "==============================================================================\n",
       "\n",
       "Notes:\n",
       "[1] Standard Errors assume that the covariance matrix of the errors is correctly specified.\n",
       "[2] The condition number is large, 5.45e+03. This might indicate that there are\n",
       "strong multicollinearity or other numerical problems.\n",
       "\"\"\""
      ]
     },
     "execution_count": 12,
     "metadata": {},
     "output_type": "execute_result"
    }
   ],
   "source": [
    "CS_X = CS_df.drop(['Total Customer Services Demand - Next 12 Months', 'Gas Storage',  'Oil Rigs', 'Q2', 'Q3', 'Q4', 'volativity','FDI'], axis=1)\n",
    "CS_Y = CS_df['Total Customer Services Demand - Next 12 Months']\n",
    "#fit a OLS model with intercept on TV and Radio\n",
    "CS_X = sm.add_constant(CS_X).astype(int)\n",
    "testCS = sm.OLS(CS_Y, CS_X).fit()\n",
    "testCS.summary()"
   ]
  },
  {
   "cell_type": "code",
   "execution_count": 13,
   "metadata": {},
   "outputs": [
    {
     "data": {
      "text/html": [
       "<table class=\"simpletable\">\n",
       "<caption>OLS Regression Results</caption>\n",
       "<tr>\n",
       "  <th>Dep. Variable:</th>    <td>Total Demand Over the Next 12 Months</td> <th>  R-squared:         </th> <td>   0.642</td>\n",
       "</tr>\n",
       "<tr>\n",
       "  <th>Model:</th>                             <td>OLS</td>                 <th>  Adj. R-squared:    </th> <td>   0.596</td>\n",
       "</tr>\n",
       "<tr>\n",
       "  <th>Method:</th>                       <td>Least Squares</td>            <th>  F-statistic:       </th> <td>   13.89</td>\n",
       "</tr>\n",
       "<tr>\n",
       "  <th>Date:</th>                       <td>Tue, 19 Apr 2022</td>           <th>  Prob (F-statistic):</th> <td>1.34e-06</td>\n",
       "</tr>\n",
       "<tr>\n",
       "  <th>Time:</th>                           <td>09:18:57</td>               <th>  Log-Likelihood:    </th> <td> -376.06</td>\n",
       "</tr>\n",
       "<tr>\n",
       "  <th>No. Observations:</th>                <td>    36</td>                <th>  AIC:               </th> <td>   762.1</td>\n",
       "</tr>\n",
       "<tr>\n",
       "  <th>Df Residuals:</th>                    <td>    31</td>                <th>  BIC:               </th> <td>   770.0</td>\n",
       "</tr>\n",
       "<tr>\n",
       "  <th>Df Model:</th>                        <td>     4</td>                <th>                     </th>     <td> </td>   \n",
       "</tr>\n",
       "<tr>\n",
       "  <th>Covariance Type:</th>                <td>nonrobust</td>              <th>                     </th>     <td> </td>   \n",
       "</tr>\n",
       "</table>\n",
       "<table class=\"simpletable\">\n",
       "<tr>\n",
       "       <td></td>         <th>coef</th>     <th>std err</th>      <th>t</th>      <th>P>|t|</th>  <th>[0.025</th>    <th>0.975]</th>  \n",
       "</tr>\n",
       "<tr>\n",
       "  <th>const</th>      <td> 4.078e+04</td> <td> 3.15e+04</td> <td>    1.294</td> <td> 0.205</td> <td>-2.35e+04</td> <td> 1.05e+05</td>\n",
       "</tr>\n",
       "<tr>\n",
       "  <th>PPI metal</th>  <td>  699.2254</td> <td>  119.971</td> <td>    5.828</td> <td> 0.000</td> <td>  454.542</td> <td>  943.909</td>\n",
       "</tr>\n",
       "<tr>\n",
       "  <th>Q3</th>         <td>-1.629e+04</td> <td> 3687.054</td> <td>   -4.417</td> <td> 0.000</td> <td>-2.38e+04</td> <td>-8767.321</td>\n",
       "</tr>\n",
       "<tr>\n",
       "  <th>Q4</th>         <td>-1.724e+04</td> <td> 3817.127</td> <td>   -4.516</td> <td> 0.000</td> <td> -2.5e+04</td> <td>-9452.759</td>\n",
       "</tr>\n",
       "<tr>\n",
       "  <th>Emp(1000s)</th> <td>-1275.0788</td> <td>  280.331</td> <td>   -4.548</td> <td> 0.000</td> <td>-1846.818</td> <td> -703.339</td>\n",
       "</tr>\n",
       "</table>\n",
       "<table class=\"simpletable\">\n",
       "<tr>\n",
       "  <th>Omnibus:</th>       <td> 4.641</td> <th>  Durbin-Watson:     </th> <td>   1.381</td>\n",
       "</tr>\n",
       "<tr>\n",
       "  <th>Prob(Omnibus):</th> <td> 0.098</td> <th>  Jarque-Bera (JB):  </th> <td>   4.015</td>\n",
       "</tr>\n",
       "<tr>\n",
       "  <th>Skew:</th>          <td>-0.319</td> <th>  Prob(JB):          </th> <td>   0.134</td>\n",
       "</tr>\n",
       "<tr>\n",
       "  <th>Kurtosis:</th>      <td> 4.506</td> <th>  Cond. No.          </th> <td>5.52e+03</td>\n",
       "</tr>\n",
       "</table><br/><br/>Notes:<br/>[1] Standard Errors assume that the covariance matrix of the errors is correctly specified.<br/>[2] The condition number is large, 5.52e+03. This might indicate that there are<br/>strong multicollinearity or other numerical problems."
      ],
      "text/plain": [
       "<class 'statsmodels.iolib.summary.Summary'>\n",
       "\"\"\"\n",
       "                                     OLS Regression Results                                     \n",
       "================================================================================================\n",
       "Dep. Variable:     Total Demand Over the Next 12 Months   R-squared:                       0.642\n",
       "Model:                                              OLS   Adj. R-squared:                  0.596\n",
       "Method:                                   Least Squares   F-statistic:                     13.89\n",
       "Date:                                  Tue, 19 Apr 2022   Prob (F-statistic):           1.34e-06\n",
       "Time:                                          09:18:57   Log-Likelihood:                -376.06\n",
       "No. Observations:                                    36   AIC:                             762.1\n",
       "Df Residuals:                                        31   BIC:                             770.0\n",
       "Df Model:                                             4                                         \n",
       "Covariance Type:                              nonrobust                                         \n",
       "==============================================================================\n",
       "                 coef    std err          t      P>|t|      [0.025      0.975]\n",
       "------------------------------------------------------------------------------\n",
       "const       4.078e+04   3.15e+04      1.294      0.205   -2.35e+04    1.05e+05\n",
       "PPI metal    699.2254    119.971      5.828      0.000     454.542     943.909\n",
       "Q3         -1.629e+04   3687.054     -4.417      0.000   -2.38e+04   -8767.321\n",
       "Q4         -1.724e+04   3817.127     -4.516      0.000    -2.5e+04   -9452.759\n",
       "Emp(1000s) -1275.0788    280.331     -4.548      0.000   -1846.818    -703.339\n",
       "==============================================================================\n",
       "Omnibus:                        4.641   Durbin-Watson:                   1.381\n",
       "Prob(Omnibus):                  0.098   Jarque-Bera (JB):                4.015\n",
       "Skew:                          -0.319   Prob(JB):                        0.134\n",
       "Kurtosis:                       4.506   Cond. No.                     5.52e+03\n",
       "==============================================================================\n",
       "\n",
       "Notes:\n",
       "[1] Standard Errors assume that the covariance matrix of the errors is correctly specified.\n",
       "[2] The condition number is large, 5.52e+03. This might indicate that there are\n",
       "strong multicollinearity or other numerical problems.\n",
       "\"\"\""
      ]
     },
     "execution_count": 13,
     "metadata": {},
     "output_type": "execute_result"
    }
   ],
   "source": [
    "TD_X = TD_df.drop(['Total Demand Over the Next 12 Months', 'Oil Rigs', 'Gas Storage', 'Q2', 'volativity', 'FDI'], axis=1)\n",
    "TD_Y = TD_df['Total Demand Over the Next 12 Months']\n",
    "#fit a OLS model with intercept on TV and Radio\n",
    "TD_X = sm.add_constant(TD_X).astype(int)\n",
    "testTD = sm.OLS(TD_Y, TD_X).fit()\n",
    "testTD.summary()"
   ]
  },
  {
   "cell_type": "markdown",
   "metadata": {},
   "source": [
    "Multicolinarity check"
   ]
  },
  {
   "cell_type": "code",
   "execution_count": 14,
   "metadata": {},
   "outputs": [
    {
     "data": {
      "text/html": [
       "<div>\n",
       "<style scoped>\n",
       "    .dataframe tbody tr th:only-of-type {\n",
       "        vertical-align: middle;\n",
       "    }\n",
       "\n",
       "    .dataframe tbody tr th {\n",
       "        vertical-align: top;\n",
       "    }\n",
       "\n",
       "    .dataframe thead th {\n",
       "        text-align: right;\n",
       "    }\n",
       "</style>\n",
       "<table border=\"1\" class=\"dataframe\">\n",
       "  <thead>\n",
       "    <tr style=\"text-align: right;\">\n",
       "      <th></th>\n",
       "      <th>const</th>\n",
       "      <th>Q4</th>\n",
       "      <th>Emp(1000s)</th>\n",
       "      <th>volativity</th>\n",
       "      <th>FDI</th>\n",
       "    </tr>\n",
       "  </thead>\n",
       "  <tbody>\n",
       "    <tr>\n",
       "      <th>const</th>\n",
       "      <td>NaN</td>\n",
       "      <td>NaN</td>\n",
       "      <td>NaN</td>\n",
       "      <td>NaN</td>\n",
       "      <td>NaN</td>\n",
       "    </tr>\n",
       "    <tr>\n",
       "      <th>Q4</th>\n",
       "      <td>NaN</td>\n",
       "      <td>1.000</td>\n",
       "      <td>-0.091</td>\n",
       "      <td>-0.087</td>\n",
       "      <td>0.375</td>\n",
       "    </tr>\n",
       "    <tr>\n",
       "      <th>Emp(1000s)</th>\n",
       "      <td>NaN</td>\n",
       "      <td>-0.091</td>\n",
       "      <td>1.000</td>\n",
       "      <td>-0.402</td>\n",
       "      <td>0.087</td>\n",
       "    </tr>\n",
       "    <tr>\n",
       "      <th>volativity</th>\n",
       "      <td>NaN</td>\n",
       "      <td>-0.087</td>\n",
       "      <td>-0.402</td>\n",
       "      <td>1.000</td>\n",
       "      <td>-0.227</td>\n",
       "    </tr>\n",
       "    <tr>\n",
       "      <th>FDI</th>\n",
       "      <td>NaN</td>\n",
       "      <td>0.375</td>\n",
       "      <td>0.087</td>\n",
       "      <td>-0.227</td>\n",
       "      <td>1.000</td>\n",
       "    </tr>\n",
       "  </tbody>\n",
       "</table>\n",
       "</div>"
      ],
      "text/plain": [
       "            const     Q4  Emp(1000s)  volativity    FDI\n",
       "const         NaN    NaN         NaN         NaN    NaN\n",
       "Q4            NaN  1.000      -0.091      -0.087  0.375\n",
       "Emp(1000s)    NaN -0.091       1.000      -0.402  0.087\n",
       "volativity    NaN -0.087      -0.402       1.000 -0.227\n",
       "FDI           NaN  0.375       0.087      -0.227  1.000"
      ]
     },
     "execution_count": 14,
     "metadata": {},
     "output_type": "execute_result"
    }
   ],
   "source": [
    "np.round(PO_X.corr(),3)"
   ]
  },
  {
   "cell_type": "code",
   "execution_count": 15,
   "metadata": {},
   "outputs": [
    {
     "data": {
      "text/html": [
       "<div>\n",
       "<style scoped>\n",
       "    .dataframe tbody tr th:only-of-type {\n",
       "        vertical-align: middle;\n",
       "    }\n",
       "\n",
       "    .dataframe tbody tr th {\n",
       "        vertical-align: top;\n",
       "    }\n",
       "\n",
       "    .dataframe thead th {\n",
       "        text-align: right;\n",
       "    }\n",
       "</style>\n",
       "<table border=\"1\" class=\"dataframe\">\n",
       "  <thead>\n",
       "    <tr style=\"text-align: right;\">\n",
       "      <th></th>\n",
       "      <th>const</th>\n",
       "      <th>PPI metal</th>\n",
       "      <th>Emp(1000s)</th>\n",
       "    </tr>\n",
       "  </thead>\n",
       "  <tbody>\n",
       "    <tr>\n",
       "      <th>const</th>\n",
       "      <td>NaN</td>\n",
       "      <td>NaN</td>\n",
       "      <td>NaN</td>\n",
       "    </tr>\n",
       "    <tr>\n",
       "      <th>PPI metal</th>\n",
       "      <td>NaN</td>\n",
       "      <td>1.000000</td>\n",
       "      <td>0.571738</td>\n",
       "    </tr>\n",
       "    <tr>\n",
       "      <th>Emp(1000s)</th>\n",
       "      <td>NaN</td>\n",
       "      <td>0.571738</td>\n",
       "      <td>1.000000</td>\n",
       "    </tr>\n",
       "  </tbody>\n",
       "</table>\n",
       "</div>"
      ],
      "text/plain": [
       "            const  PPI metal  Emp(1000s)\n",
       "const         NaN        NaN         NaN\n",
       "PPI metal     NaN   1.000000    0.571738\n",
       "Emp(1000s)    NaN   0.571738    1.000000"
      ]
     },
     "execution_count": 15,
     "metadata": {},
     "output_type": "execute_result"
    }
   ],
   "source": [
    "CS_X.corr()"
   ]
  },
  {
   "cell_type": "code",
   "execution_count": 16,
   "metadata": {},
   "outputs": [
    {
     "data": {
      "text/html": [
       "<div>\n",
       "<style scoped>\n",
       "    .dataframe tbody tr th:only-of-type {\n",
       "        vertical-align: middle;\n",
       "    }\n",
       "\n",
       "    .dataframe tbody tr th {\n",
       "        vertical-align: top;\n",
       "    }\n",
       "\n",
       "    .dataframe thead th {\n",
       "        text-align: right;\n",
       "    }\n",
       "</style>\n",
       "<table border=\"1\" class=\"dataframe\">\n",
       "  <thead>\n",
       "    <tr style=\"text-align: right;\">\n",
       "      <th></th>\n",
       "      <th>const</th>\n",
       "      <th>PPI metal</th>\n",
       "      <th>Q3</th>\n",
       "      <th>Q4</th>\n",
       "      <th>Emp(1000s)</th>\n",
       "    </tr>\n",
       "  </thead>\n",
       "  <tbody>\n",
       "    <tr>\n",
       "      <th>const</th>\n",
       "      <td>NaN</td>\n",
       "      <td>NaN</td>\n",
       "      <td>NaN</td>\n",
       "      <td>NaN</td>\n",
       "      <td>NaN</td>\n",
       "    </tr>\n",
       "    <tr>\n",
       "      <th>PPI metal</th>\n",
       "      <td>NaN</td>\n",
       "      <td>1.000</td>\n",
       "      <td>-0.089</td>\n",
       "      <td>0.160</td>\n",
       "      <td>0.572</td>\n",
       "    </tr>\n",
       "    <tr>\n",
       "      <th>Q3</th>\n",
       "      <td>NaN</td>\n",
       "      <td>-0.089</td>\n",
       "      <td>1.000</td>\n",
       "      <td>-0.333</td>\n",
       "      <td>-0.072</td>\n",
       "    </tr>\n",
       "    <tr>\n",
       "      <th>Q4</th>\n",
       "      <td>NaN</td>\n",
       "      <td>0.160</td>\n",
       "      <td>-0.333</td>\n",
       "      <td>1.000</td>\n",
       "      <td>-0.091</td>\n",
       "    </tr>\n",
       "    <tr>\n",
       "      <th>Emp(1000s)</th>\n",
       "      <td>NaN</td>\n",
       "      <td>0.572</td>\n",
       "      <td>-0.072</td>\n",
       "      <td>-0.091</td>\n",
       "      <td>1.000</td>\n",
       "    </tr>\n",
       "  </tbody>\n",
       "</table>\n",
       "</div>"
      ],
      "text/plain": [
       "            const  PPI metal     Q3     Q4  Emp(1000s)\n",
       "const         NaN        NaN    NaN    NaN         NaN\n",
       "PPI metal     NaN      1.000 -0.089  0.160       0.572\n",
       "Q3            NaN     -0.089  1.000 -0.333      -0.072\n",
       "Q4            NaN      0.160 -0.333  1.000      -0.091\n",
       "Emp(1000s)    NaN      0.572 -0.072 -0.091       1.000"
      ]
     },
     "execution_count": 16,
     "metadata": {},
     "output_type": "execute_result"
    }
   ],
   "source": [
    "np.round(TD_X.corr(),3)"
   ]
  },
  {
   "cell_type": "code",
   "execution_count": null,
   "metadata": {},
   "outputs": [],
   "source": []
  },
  {
   "cell_type": "markdown",
   "metadata": {},
   "source": [
    ".34"
   ]
  },
  {
   "cell_type": "code",
   "execution_count": 19,
   "metadata": {},
   "outputs": [],
   "source": [
    "CSresult = (testCS.summary().tables)"
   ]
  },
  {
   "cell_type": "code",
   "execution_count": null,
   "metadata": {},
   "outputs": [],
   "source": []
  }
 ],
 "metadata": {
  "interpreter": {
   "hash": "e8303e1b1f6f546d7a80b589d7095af5fe507dc1041790ed10b458ad8439d992"
  },
  "kernelspec": {
   "display_name": "Python 3.8.5 ('base')",
   "language": "python",
   "name": "python3"
  },
  "language_info": {
   "codemirror_mode": {
    "name": "ipython",
    "version": 3
   },
   "file_extension": ".py",
   "mimetype": "text/x-python",
   "name": "python",
   "nbconvert_exporter": "python",
   "pygments_lexer": "ipython3",
   "version": "3.8.5"
  },
  "orig_nbformat": 4
 },
 "nbformat": 4,
 "nbformat_minor": 2
}
