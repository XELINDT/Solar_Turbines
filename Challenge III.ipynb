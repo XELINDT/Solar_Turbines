{
 "cells": [
  {
   "cell_type": "markdown",
   "metadata": {},
   "source": [
    "# Challenge III"
   ]
  },
  {
   "cell_type": "code",
   "execution_count": 35,
   "metadata": {},
   "outputs": [],
   "source": [
    "import numpy as np\n",
    "import pandas as pd\n",
    "import matplotlib.pyplot as plt\n",
    "import openpyxl"
   ]
  },
  {
   "cell_type": "code",
   "execution_count": 63,
   "metadata": {},
   "outputs": [],
   "source": [
    "df = pd.read_excel(r'C:\\Users\\xelin\\OneDrive\\Desktop\\Graduate School\\3rd trimester\\capstone\\scrap\\2022-04-13 RN Scrap Data w Cost.xlsx', engine = 'openpyxl')\n",
    "df.rename({'Date (1/1/2015-4/8/2022)':'date'}, axis = 1, inplace = True)\n",
    "df.set_index('date', inplace = True)"
   ]
  },
  {
   "cell_type": "code",
   "execution_count": 37,
   "metadata": {},
   "outputs": [
    {
     "data": {
      "text/plain": [
       "Index(['Reject Notice', 'Part Number', 'Qty', 'Unit Price'], dtype='object')"
      ]
     },
     "execution_count": 37,
     "metadata": {},
     "output_type": "execute_result"
    }
   ],
   "source": [
    "df.columns"
   ]
  },
  {
   "cell_type": "code",
   "execution_count": 38,
   "metadata": {},
   "outputs": [],
   "source": [
    "year_grouped_sum = df[['Qty', 'Part Number']].groupby(['Part Number',pd.Grouper(freq='Y')]).sum().reset_index()\n",
    "year_grouped_count = df[['Qty', 'Part Number']].groupby(['Part Number',pd.Grouper(freq='Y')]).count().reset_index()"
   ]
  },
  {
   "cell_type": "markdown",
   "metadata": {},
   "source": [
    "# TODO: add this"
   ]
  },
  {
   "cell_type": "code",
   "execution_count": 39,
   "metadata": {},
   "outputs": [
    {
     "data": {
      "text/html": [
       "<div>\n",
       "<style scoped>\n",
       "    .dataframe tbody tr th:only-of-type {\n",
       "        vertical-align: middle;\n",
       "    }\n",
       "\n",
       "    .dataframe tbody tr th {\n",
       "        vertical-align: top;\n",
       "    }\n",
       "\n",
       "    .dataframe thead th {\n",
       "        text-align: right;\n",
       "    }\n",
       "</style>\n",
       "<table border=\"1\" class=\"dataframe\">\n",
       "  <thead>\n",
       "    <tr style=\"text-align: right;\">\n",
       "      <th></th>\n",
       "      <th>Unit Price</th>\n",
       "    </tr>\n",
       "    <tr>\n",
       "      <th>Part Number</th>\n",
       "      <th></th>\n",
       "    </tr>\n",
       "  </thead>\n",
       "  <tbody>\n",
       "    <tr>\n",
       "      <th>022347JAY</th>\n",
       "      <td>98.00</td>\n",
       "    </tr>\n",
       "    <tr>\n",
       "      <th>0270405JAY</th>\n",
       "      <td>178.00</td>\n",
       "    </tr>\n",
       "    <tr>\n",
       "      <th>0270469JAY</th>\n",
       "      <td>312.00</td>\n",
       "    </tr>\n",
       "    <tr>\n",
       "      <th>1001599-1</th>\n",
       "      <td>16.40</td>\n",
       "    </tr>\n",
       "    <tr>\n",
       "      <th>1001599-6</th>\n",
       "      <td>47.70</td>\n",
       "    </tr>\n",
       "    <tr>\n",
       "      <th>...</th>\n",
       "      <td>...</td>\n",
       "    </tr>\n",
       "    <tr>\n",
       "      <th>SV_2288543</th>\n",
       "      <td>180.88</td>\n",
       "    </tr>\n",
       "    <tr>\n",
       "      <th>SV_3241735</th>\n",
       "      <td>102.82</td>\n",
       "    </tr>\n",
       "    <tr>\n",
       "      <th>SV_3241771</th>\n",
       "      <td>302.01</td>\n",
       "    </tr>\n",
       "    <tr>\n",
       "      <th>WT00009</th>\n",
       "      <td>1.73</td>\n",
       "    </tr>\n",
       "    <tr>\n",
       "      <th>WT00030</th>\n",
       "      <td>1.22</td>\n",
       "    </tr>\n",
       "  </tbody>\n",
       "</table>\n",
       "<p>3272 rows × 1 columns</p>\n",
       "</div>"
      ],
      "text/plain": [
       "             Unit Price\n",
       "Part Number            \n",
       "022347JAY         98.00\n",
       "0270405JAY       178.00\n",
       "0270469JAY       312.00\n",
       "1001599-1         16.40\n",
       "1001599-6         47.70\n",
       "...                 ...\n",
       "SV_2288543       180.88\n",
       "SV_3241735       102.82\n",
       "SV_3241771       302.01\n",
       "WT00009            1.73\n",
       "WT00030            1.22\n",
       "\n",
       "[3272 rows x 1 columns]"
      ]
     },
     "execution_count": 39,
     "metadata": {},
     "output_type": "execute_result"
    }
   ],
   "source": [
    "df_costs = df.groupby('Part Number')[['Unit Price']].first()\n",
    "df_costs"
   ]
  },
  {
   "cell_type": "markdown",
   "metadata": {},
   "source": [
    "## Collect Last Scraping date by Part Number"
   ]
  },
  {
   "cell_type": "code",
   "execution_count": 40,
   "metadata": {},
   "outputs": [
    {
     "data": {
      "text/html": [
       "<div>\n",
       "<style scoped>\n",
       "    .dataframe tbody tr th:only-of-type {\n",
       "        vertical-align: middle;\n",
       "    }\n",
       "\n",
       "    .dataframe tbody tr th {\n",
       "        vertical-align: top;\n",
       "    }\n",
       "\n",
       "    .dataframe thead th {\n",
       "        text-align: right;\n",
       "    }\n",
       "</style>\n",
       "<table border=\"1\" class=\"dataframe\">\n",
       "  <thead>\n",
       "    <tr style=\"text-align: right;\">\n",
       "      <th></th>\n",
       "      <th>date</th>\n",
       "    </tr>\n",
       "    <tr>\n",
       "      <th>Part Number</th>\n",
       "      <th></th>\n",
       "    </tr>\n",
       "  </thead>\n",
       "  <tbody>\n",
       "    <tr>\n",
       "      <th>022347JAY</th>\n",
       "      <td>2022-01-18</td>\n",
       "    </tr>\n",
       "    <tr>\n",
       "      <th>0270405JAY</th>\n",
       "      <td>2015-01-23</td>\n",
       "    </tr>\n",
       "    <tr>\n",
       "      <th>0270469JAY</th>\n",
       "      <td>2022-01-18</td>\n",
       "    </tr>\n",
       "    <tr>\n",
       "      <th>1001599-1</th>\n",
       "      <td>2015-01-07</td>\n",
       "    </tr>\n",
       "    <tr>\n",
       "      <th>1001599-6</th>\n",
       "      <td>2020-06-18</td>\n",
       "    </tr>\n",
       "    <tr>\n",
       "      <th>...</th>\n",
       "      <td>...</td>\n",
       "    </tr>\n",
       "    <tr>\n",
       "      <th>SV_2288543</th>\n",
       "      <td>2018-06-12</td>\n",
       "    </tr>\n",
       "    <tr>\n",
       "      <th>SV_3241735</th>\n",
       "      <td>2021-10-14</td>\n",
       "    </tr>\n",
       "    <tr>\n",
       "      <th>SV_3241771</th>\n",
       "      <td>2022-02-07</td>\n",
       "    </tr>\n",
       "    <tr>\n",
       "      <th>WT00009</th>\n",
       "      <td>2015-06-05</td>\n",
       "    </tr>\n",
       "    <tr>\n",
       "      <th>WT00030</th>\n",
       "      <td>2015-03-27</td>\n",
       "    </tr>\n",
       "  </tbody>\n",
       "</table>\n",
       "<p>3272 rows × 1 columns</p>\n",
       "</div>"
      ],
      "text/plain": [
       "                  date\n",
       "Part Number           \n",
       "022347JAY   2022-01-18\n",
       "0270405JAY  2015-01-23\n",
       "0270469JAY  2022-01-18\n",
       "1001599-1   2015-01-07\n",
       "1001599-6   2020-06-18\n",
       "...                ...\n",
       "SV_2288543  2018-06-12\n",
       "SV_3241735  2021-10-14\n",
       "SV_3241771  2022-02-07\n",
       "WT00009     2015-06-05\n",
       "WT00030     2015-03-27\n",
       "\n",
       "[3272 rows x 1 columns]"
      ]
     },
     "execution_count": 40,
     "metadata": {},
     "output_type": "execute_result"
    }
   ],
   "source": [
    "df_last_date = df.reset_index().sort_values(by = ['date'], ascending = True).groupby('Part Number').last()[['date']]\n",
    "\n",
    "\n",
    "df_last_date"
   ]
  },
  {
   "cell_type": "code",
   "execution_count": 41,
   "metadata": {},
   "outputs": [
    {
     "data": {
      "text/html": [
       "<div>\n",
       "<style scoped>\n",
       "    .dataframe tbody tr th:only-of-type {\n",
       "        vertical-align: middle;\n",
       "    }\n",
       "\n",
       "    .dataframe tbody tr th {\n",
       "        vertical-align: top;\n",
       "    }\n",
       "\n",
       "    .dataframe thead th {\n",
       "        text-align: right;\n",
       "    }\n",
       "</style>\n",
       "<table border=\"1\" class=\"dataframe\">\n",
       "  <thead>\n",
       "    <tr style=\"text-align: right;\">\n",
       "      <th></th>\n",
       "      <th>date</th>\n",
       "      <th>diff_years</th>\n",
       "    </tr>\n",
       "    <tr>\n",
       "      <th>Part Number</th>\n",
       "      <th></th>\n",
       "      <th></th>\n",
       "    </tr>\n",
       "  </thead>\n",
       "  <tbody>\n",
       "    <tr>\n",
       "      <th>022347JAY</th>\n",
       "      <td>2022-01-18</td>\n",
       "      <td>0</td>\n",
       "    </tr>\n",
       "    <tr>\n",
       "      <th>0270405JAY</th>\n",
       "      <td>2015-01-23</td>\n",
       "      <td>7</td>\n",
       "    </tr>\n",
       "    <tr>\n",
       "      <th>0270469JAY</th>\n",
       "      <td>2022-01-18</td>\n",
       "      <td>0</td>\n",
       "    </tr>\n",
       "    <tr>\n",
       "      <th>1001599-1</th>\n",
       "      <td>2015-01-07</td>\n",
       "      <td>7</td>\n",
       "    </tr>\n",
       "    <tr>\n",
       "      <th>1001599-6</th>\n",
       "      <td>2020-06-18</td>\n",
       "      <td>1</td>\n",
       "    </tr>\n",
       "    <tr>\n",
       "      <th>...</th>\n",
       "      <td>...</td>\n",
       "      <td>...</td>\n",
       "    </tr>\n",
       "    <tr>\n",
       "      <th>SV_2288543</th>\n",
       "      <td>2018-06-12</td>\n",
       "      <td>3</td>\n",
       "    </tr>\n",
       "    <tr>\n",
       "      <th>SV_3241735</th>\n",
       "      <td>2021-10-14</td>\n",
       "      <td>0</td>\n",
       "    </tr>\n",
       "    <tr>\n",
       "      <th>SV_3241771</th>\n",
       "      <td>2022-02-07</td>\n",
       "      <td>0</td>\n",
       "    </tr>\n",
       "    <tr>\n",
       "      <th>WT00009</th>\n",
       "      <td>2015-06-05</td>\n",
       "      <td>6</td>\n",
       "    </tr>\n",
       "    <tr>\n",
       "      <th>WT00030</th>\n",
       "      <td>2015-03-27</td>\n",
       "      <td>7</td>\n",
       "    </tr>\n",
       "  </tbody>\n",
       "</table>\n",
       "<p>3272 rows × 2 columns</p>\n",
       "</div>"
      ],
      "text/plain": [
       "                  date  diff_years\n",
       "Part Number                       \n",
       "022347JAY   2022-01-18           0\n",
       "0270405JAY  2015-01-23           7\n",
       "0270469JAY  2022-01-18           0\n",
       "1001599-1   2015-01-07           7\n",
       "1001599-6   2020-06-18           1\n",
       "...                ...         ...\n",
       "SV_2288543  2018-06-12           3\n",
       "SV_3241735  2021-10-14           0\n",
       "SV_3241771  2022-02-07           0\n",
       "WT00009     2015-06-05           6\n",
       "WT00030     2015-03-27           7\n",
       "\n",
       "[3272 rows x 2 columns]"
      ]
     },
     "execution_count": 41,
     "metadata": {},
     "output_type": "execute_result"
    }
   ],
   "source": [
    "import datetime\n",
    "\n",
    "df_last_date['diff_years'] = df_last_date['date'].apply(lambda x: (pd.to_datetime(datetime.datetime.now()) - x).days//365)\n",
    "\n",
    "df_last_date"
   ]
  },
  {
   "cell_type": "markdown",
   "metadata": {},
   "source": [
    "## Pivoting"
   ]
  },
  {
   "cell_type": "code",
   "execution_count": 42,
   "metadata": {},
   "outputs": [],
   "source": [
    "df_by_sum = year_grouped_sum.pivot(index='Part Number', columns='date', values='Qty').fillna(0)\n",
    "\n",
    "df_by_count = year_grouped_count.pivot(index='Part Number', columns='date', values='Qty').fillna(0).reset_index()"
   ]
  },
  {
   "cell_type": "code",
   "execution_count": 43,
   "metadata": {},
   "outputs": [],
   "source": [
    "df_by_sum = df_by_sum.merge(df_costs, left_index= True, right_index= True)"
   ]
  },
  {
   "cell_type": "code",
   "execution_count": 44,
   "metadata": {},
   "outputs": [
    {
     "data": {
      "text/plain": [
       "array([0., 0., 0., ..., 0., 0., 0.])"
      ]
     },
     "execution_count": 44,
     "metadata": {},
     "output_type": "execute_result"
    }
   ],
   "source": [
    "df_by_sum.iloc[:,1].values * df_by_sum.iloc[:,-1].values"
   ]
  },
  {
   "cell_type": "code",
   "execution_count": 45,
   "metadata": {},
   "outputs": [],
   "source": [
    "df_by_count.columns = np.array(['Part Number', '2015', '2016',\n",
    "       '2017', '2018', '2019',\n",
    "       '2020', '2021', '2022'])"
   ]
  },
  {
   "cell_type": "code",
   "execution_count": 46,
   "metadata": {},
   "outputs": [],
   "source": [
    "df_by_count['scraped_2022'] = df_by_count['2022'].apply(lambda x: True if x > 0 else False)\n",
    "df_by_count['scraped_2021'] = df_by_count['2021'].apply(lambda x: True if x > 0 else False)\n",
    "df_by_count['scraped_2020'] = df_by_count['2020'].apply(lambda x: True if x > 0 else False)\n",
    "df_by_count['scraped_2019'] = df_by_count['2019'].apply(lambda x: True if x > 0 else False)"
   ]
  },
  {
   "cell_type": "code",
   "execution_count": 47,
   "metadata": {},
   "outputs": [],
   "source": [
    "df_counts = df_by_count[['Part Number','scraped_2022','scraped_2021','scraped_2020','scraped_2019']].copy()"
   ]
  },
  {
   "cell_type": "code",
   "execution_count": 48,
   "metadata": {},
   "outputs": [],
   "source": [
    "df_counts.set_index('Part Number', inplace = True)"
   ]
  },
  {
   "cell_type": "code",
   "execution_count": 49,
   "metadata": {},
   "outputs": [
    {
     "data": {
      "text/plain": [
       "scraped_2022    171\n",
       "scraped_2021    672\n",
       "scraped_2020    660\n",
       "scraped_2019    797\n",
       "dtype: int64"
      ]
     },
     "execution_count": 49,
     "metadata": {},
     "output_type": "execute_result"
    }
   ],
   "source": [
    "df_counts.sum()"
   ]
  },
  {
   "cell_type": "code",
   "execution_count": 50,
   "metadata": {},
   "outputs": [],
   "source": [
    "df_counts['scraped_2022_2021'] = df_counts.scraped_2021 & df_counts.scraped_2022\n",
    "df_counts['scraped_2022_2021_2020'] = df_counts.scraped_2020 & df_counts.scraped_2021 & df_counts.scraped_2022\n",
    "df_counts['scraped_2022_2021_2020_2019'] = df_counts.scraped_2019 & df_counts.scraped_2020 & df_counts.scraped_2021 & df_counts.scraped_2022\n",
    "df_counts['No_scraped_last_2_years'] = ~df_counts.scraped_2022_2021"
   ]
  },
  {
   "cell_type": "code",
   "execution_count": 51,
   "metadata": {},
   "outputs": [],
   "source": [
    "t = pd.DataFrame(np.array([df_counts.scraped_2022_2021_2020_2019.sum(),\n",
    "                      df_counts.scraped_2022_2021_2020.sum(),\n",
    "                       df_counts.scraped_2022_2021.sum(),\n",
    "                       df_counts.scraped_2022.sum()]), columns = ['Count_Part_Number'])\n",
    "t.index = np.array(['Scraped_2022_2021_2020_2019','Scraped_2022_2021_2020', 'Scraped_2022_2021', 'Scraped_2022'])"
   ]
  },
  {
   "cell_type": "code",
   "execution_count": 52,
   "metadata": {},
   "outputs": [],
   "source": [
    "import seaborn as sns"
   ]
  },
  {
   "cell_type": "code",
   "execution_count": 53,
   "metadata": {},
   "outputs": [
    {
     "data": {
      "text/plain": [
       "array([ 20,  29,  66, 171], dtype=int64)"
      ]
     },
     "execution_count": 53,
     "metadata": {},
     "output_type": "execute_result"
    }
   ],
   "source": [
    "t.Count_Part_Number.values"
   ]
  },
  {
   "cell_type": "code",
   "execution_count": 54,
   "metadata": {},
   "outputs": [
    {
     "data": {
      "image/png": "[encoded data removed]",
      "text/plain": [
       "<Figure size 1008x720 with 1 Axes>"
      ]
     },
     "metadata": {},
     "output_type": "display_data"
    }
   ],
   "source": [
    "sns.set_theme('notebook')\n",
    "plt.figure(1, figsize = (14,10))\n",
    "sns.barplot(x = t.index, y = t.Count_Part_Number, data = t, palette = 'magma')\n",
    "for i in range(len(t.Count_Part_Number)):\n",
    "    plt.annotate(t.Count_Part_Number.values[i], (i,t.Count_Part_Number.values[i]), weight = 'bold', fontsize = 15)\n",
    "plt.savefig('scraped.png')"
   ]
  },
  {
   "cell_type": "code",
   "execution_count": 55,
   "metadata": {},
   "outputs": [
    {
     "data": {
      "text/html": [
       "<div>\n",
       "<style scoped>\n",
       "    .dataframe tbody tr th:only-of-type {\n",
       "        vertical-align: middle;\n",
       "    }\n",
       "\n",
       "    .dataframe tbody tr th {\n",
       "        vertical-align: top;\n",
       "    }\n",
       "\n",
       "    .dataframe thead th {\n",
       "        text-align: right;\n",
       "    }\n",
       "</style>\n",
       "<table border=\"1\" class=\"dataframe\">\n",
       "  <thead>\n",
       "    <tr style=\"text-align: right;\">\n",
       "      <th></th>\n",
       "      <th>Reject Notice</th>\n",
       "      <th>Part Number</th>\n",
       "      <th>Qty</th>\n",
       "      <th>Unit Price</th>\n",
       "    </tr>\n",
       "    <tr>\n",
       "      <th>date</th>\n",
       "      <th></th>\n",
       "      <th></th>\n",
       "      <th></th>\n",
       "      <th></th>\n",
       "    </tr>\n",
       "  </thead>\n",
       "  <tbody>\n",
       "  </tbody>\n",
       "</table>\n",
       "</div>"
      ],
      "text/plain": [
       "Empty DataFrame\n",
       "Columns: [Reject Notice, Part Number, Qty, Unit Price]\n",
       "Index: []"
      ]
     },
     "execution_count": 55,
     "metadata": {},
     "output_type": "execute_result"
    }
   ],
   "source": [
    "df[df['Part Number'] == 75812]"
   ]
  },
  {
   "cell_type": "code",
   "execution_count": 56,
   "metadata": {},
   "outputs": [],
   "source": [
    "weights = {'2019':20,\n",
    "          '2020':50,\n",
    "          '2021': 70,\n",
    "          '2022': 150,\n",
    "          '2022_2021':200,\n",
    "          '2022_2021_2020':400,\n",
    "          '2022_2021_2020_2019':500}\n",
    "\n",
    "df_counts['score'] = df_counts.apply(lambda x:  (weights['2019'] *x.scraped_2019 +\n",
    "                                                weights['2020'] *x.scraped_2020 +\n",
    "                                                weights['2021'] *x.scraped_2021 +\n",
    "                                                weights['2022_2021'] *x.scraped_2022_2021 +\n",
    "                                                weights['2022_2021_2020'] *x.scraped_2022_2021_2020 +\n",
    "                                                weights['2022_2021_2020_2019'] * x.scraped_2022_2021_2020_2019), axis = 1)\n",
    "\n",
    "df_counts['score'] = df_counts.apply(lambda x: x.score if x.scraped_2022_2021 == True else 0, axis = 1)\n",
    "\n"
   ]
  },
  {
   "cell_type": "code",
   "execution_count": 57,
   "metadata": {},
   "outputs": [
    {
     "data": {
      "text/html": [
       "<div>\n",
       "<style scoped>\n",
       "    .dataframe tbody tr th:only-of-type {\n",
       "        vertical-align: middle;\n",
       "    }\n",
       "\n",
       "    .dataframe tbody tr th {\n",
       "        vertical-align: top;\n",
       "    }\n",
       "\n",
       "    .dataframe thead th {\n",
       "        text-align: right;\n",
       "    }\n",
       "</style>\n",
       "<table border=\"1\" class=\"dataframe\">\n",
       "  <thead>\n",
       "    <tr style=\"text-align: right;\">\n",
       "      <th></th>\n",
       "      <th>scraped_2022</th>\n",
       "      <th>scraped_2021</th>\n",
       "      <th>scraped_2020</th>\n",
       "      <th>scraped_2019</th>\n",
       "      <th>scraped_2022_2021</th>\n",
       "      <th>scraped_2022_2021_2020</th>\n",
       "      <th>scraped_2022_2021_2020_2019</th>\n",
       "      <th>No_scraped_last_2_years</th>\n",
       "      <th>score</th>\n",
       "    </tr>\n",
       "    <tr>\n",
       "      <th>Part Number</th>\n",
       "      <th></th>\n",
       "      <th></th>\n",
       "      <th></th>\n",
       "      <th></th>\n",
       "      <th></th>\n",
       "      <th></th>\n",
       "      <th></th>\n",
       "      <th></th>\n",
       "      <th></th>\n",
       "    </tr>\n",
       "  </thead>\n",
       "  <tbody>\n",
       "    <tr>\n",
       "      <th>1016391-21</th>\n",
       "      <td>True</td>\n",
       "      <td>True</td>\n",
       "      <td>False</td>\n",
       "      <td>False</td>\n",
       "      <td>True</td>\n",
       "      <td>False</td>\n",
       "      <td>False</td>\n",
       "      <td>False</td>\n",
       "      <td>270</td>\n",
       "    </tr>\n",
       "    <tr>\n",
       "      <th>1023031-1</th>\n",
       "      <td>True</td>\n",
       "      <td>True</td>\n",
       "      <td>True</td>\n",
       "      <td>True</td>\n",
       "      <td>True</td>\n",
       "      <td>True</td>\n",
       "      <td>True</td>\n",
       "      <td>False</td>\n",
       "      <td>1240</td>\n",
       "    </tr>\n",
       "    <tr>\n",
       "      <th>1026189-9</th>\n",
       "      <td>True</td>\n",
       "      <td>True</td>\n",
       "      <td>False</td>\n",
       "      <td>False</td>\n",
       "      <td>True</td>\n",
       "      <td>False</td>\n",
       "      <td>False</td>\n",
       "      <td>False</td>\n",
       "      <td>270</td>\n",
       "    </tr>\n",
       "    <tr>\n",
       "      <th>1046779-4</th>\n",
       "      <td>True</td>\n",
       "      <td>True</td>\n",
       "      <td>False</td>\n",
       "      <td>True</td>\n",
       "      <td>True</td>\n",
       "      <td>False</td>\n",
       "      <td>False</td>\n",
       "      <td>False</td>\n",
       "      <td>290</td>\n",
       "    </tr>\n",
       "    <tr>\n",
       "      <th>1052168-52</th>\n",
       "      <td>True</td>\n",
       "      <td>True</td>\n",
       "      <td>True</td>\n",
       "      <td>False</td>\n",
       "      <td>True</td>\n",
       "      <td>True</td>\n",
       "      <td>False</td>\n",
       "      <td>False</td>\n",
       "      <td>720</td>\n",
       "    </tr>\n",
       "    <tr>\n",
       "      <th>...</th>\n",
       "      <td>...</td>\n",
       "      <td>...</td>\n",
       "      <td>...</td>\n",
       "      <td>...</td>\n",
       "      <td>...</td>\n",
       "      <td>...</td>\n",
       "      <td>...</td>\n",
       "      <td>...</td>\n",
       "      <td>...</td>\n",
       "    </tr>\n",
       "    <tr>\n",
       "      <th>907777C1</th>\n",
       "      <td>True</td>\n",
       "      <td>True</td>\n",
       "      <td>False</td>\n",
       "      <td>False</td>\n",
       "      <td>True</td>\n",
       "      <td>False</td>\n",
       "      <td>False</td>\n",
       "      <td>False</td>\n",
       "      <td>270</td>\n",
       "    </tr>\n",
       "    <tr>\n",
       "      <th>911687C3</th>\n",
       "      <td>True</td>\n",
       "      <td>True</td>\n",
       "      <td>True</td>\n",
       "      <td>False</td>\n",
       "      <td>True</td>\n",
       "      <td>True</td>\n",
       "      <td>False</td>\n",
       "      <td>False</td>\n",
       "      <td>720</td>\n",
       "    </tr>\n",
       "    <tr>\n",
       "      <th>948282C1</th>\n",
       "      <td>True</td>\n",
       "      <td>True</td>\n",
       "      <td>True</td>\n",
       "      <td>True</td>\n",
       "      <td>True</td>\n",
       "      <td>True</td>\n",
       "      <td>True</td>\n",
       "      <td>False</td>\n",
       "      <td>1240</td>\n",
       "    </tr>\n",
       "    <tr>\n",
       "      <th>951420C2</th>\n",
       "      <td>True</td>\n",
       "      <td>True</td>\n",
       "      <td>False</td>\n",
       "      <td>False</td>\n",
       "      <td>True</td>\n",
       "      <td>False</td>\n",
       "      <td>False</td>\n",
       "      <td>False</td>\n",
       "      <td>270</td>\n",
       "    </tr>\n",
       "    <tr>\n",
       "      <th>970189C1</th>\n",
       "      <td>True</td>\n",
       "      <td>True</td>\n",
       "      <td>False</td>\n",
       "      <td>False</td>\n",
       "      <td>True</td>\n",
       "      <td>False</td>\n",
       "      <td>False</td>\n",
       "      <td>False</td>\n",
       "      <td>270</td>\n",
       "    </tr>\n",
       "  </tbody>\n",
       "</table>\n",
       "<p>66 rows × 9 columns</p>\n",
       "</div>"
      ],
      "text/plain": [
       "             scraped_2022  scraped_2021  scraped_2020  scraped_2019  \\\n",
       "Part Number                                                           \n",
       "1016391-21           True          True         False         False   \n",
       "1023031-1            True          True          True          True   \n",
       "1026189-9            True          True         False         False   \n",
       "1046779-4            True          True         False          True   \n",
       "1052168-52           True          True          True         False   \n",
       "...                   ...           ...           ...           ...   \n",
       "907777C1             True          True         False         False   \n",
       "911687C3             True          True          True         False   \n",
       "948282C1             True          True          True          True   \n",
       "951420C2             True          True         False         False   \n",
       "970189C1             True          True         False         False   \n",
       "\n",
       "             scraped_2022_2021  scraped_2022_2021_2020  \\\n",
       "Part Number                                              \n",
       "1016391-21                True                   False   \n",
       "1023031-1                 True                    True   \n",
       "1026189-9                 True                   False   \n",
       "1046779-4                 True                   False   \n",
       "1052168-52                True                    True   \n",
       "...                        ...                     ...   \n",
       "907777C1                  True                   False   \n",
       "911687C3                  True                    True   \n",
       "948282C1                  True                    True   \n",
       "951420C2                  True                   False   \n",
       "970189C1                  True                   False   \n",
       "\n",
       "             scraped_2022_2021_2020_2019  No_scraped_last_2_years  score  \n",
       "Part Number                                                               \n",
       "1016391-21                         False                    False    270  \n",
       "1023031-1                           True                    False   1240  \n",
       "1026189-9                          False                    False    270  \n",
       "1046779-4                          False                    False    290  \n",
       "1052168-52                         False                    False    720  \n",
       "...                                  ...                      ...    ...  \n",
       "907777C1                           False                    False    270  \n",
       "911687C3                           False                    False    720  \n",
       "948282C1                            True                    False   1240  \n",
       "951420C2                           False                    False    270  \n",
       "970189C1                           False                    False    270  \n",
       "\n",
       "[66 rows x 9 columns]"
      ]
     },
     "execution_count": 57,
     "metadata": {},
     "output_type": "execute_result"
    }
   ],
   "source": [
    "df_counts[df_counts.score > 0]"
   ]
  },
  {
   "cell_type": "code",
   "execution_count": 58,
   "metadata": {},
   "outputs": [],
   "source": [
    "final = df_counts.merge(df_last_date, left_index = True, right_index = True)[['scraped_2022', 'scraped_2021', 'scraped_2020', 'scraped_2019',\n",
    "       'scraped_2022_2021', 'scraped_2022_2021_2020',\n",
    "       'scraped_2022_2021_2020_2019', 'No_scraped_last_2_years', 'score','diff_years']].copy()"
   ]
  },
  {
   "cell_type": "code",
   "execution_count": 74,
   "metadata": {},
   "outputs": [],
   "source": [
    "df2 = pd.DataFrame()\n",
    "df2 = df.groupby('Part Number').agg({'Qty':'sum', 'Unit Price':'mean'})\n",
    "\n"
   ]
  },
  {
   "cell_type": "code",
   "execution_count": 75,
   "metadata": {},
   "outputs": [],
   "source": [
    "final['Qty'] = df2['Qty']\n",
    "final['Unit Price'] = df2['Unit Price']"
   ]
  },
  {
   "cell_type": "code",
   "execution_count": 79,
   "metadata": {},
   "outputs": [],
   "source": [
    "final['has_score'] = (final['score'] > 0)"
   ]
  },
  {
   "cell_type": "code",
   "execution_count": 86,
   "metadata": {},
   "outputs": [],
   "source": [
    "final['total_cost'] = final['Unit Price'] * final['Qty']\n",
    "final['weighted_score'] = final['score'] * final['total_cost'] *.001"
   ]
  },
  {
   "cell_type": "code",
   "execution_count": 85,
   "metadata": {},
   "outputs": [],
   "source": [
    "final.to_csv(r'C:\\Users\\xelin\\OneDrive\\Desktop\\Graduate School\\3rd trimester\\capstone\\scrap\\challenge_3v1.csv')"
   ]
  }
 ],
 "metadata": {
  "kernelspec": {
   "display_name": "Python 3",
   "language": "python",
   "name": "python3"
  },
  "language_info": {
   "codemirror_mode": {
    "name": "ipython",
    "version": 3
   },
   "file_extension": ".py",
   "mimetype": "text/x-python",
   "name": "python",
   "nbconvert_exporter": "python",
   "pygments_lexer": "ipython3",
   "version": "3.8.5"
  }
 },
 "nbformat": 4,
 "nbformat_minor": 4
}
